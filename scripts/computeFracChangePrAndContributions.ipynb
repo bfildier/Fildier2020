{
 "cells": [
  {
   "cell_type": "code",
   "execution_count": 1,
   "metadata": {
    "ExecuteTime": {
     "end_time": "2019-04-18T04:18:24.775914Z",
     "start_time": "2019-04-18T04:18:22.845087Z"
    }
   },
   "outputs": [],
   "source": [
    "%load_ext autoreload\n",
    "%matplotlib inline"
   ]
  },
  {
   "cell_type": "code",
   "execution_count": 2,
   "metadata": {
    "ExecuteTime": {
     "end_time": "2019-04-18T04:18:31.373573Z",
     "start_time": "2019-04-18T04:18:24.783640Z"
    },
    "scrolled": true
   },
   "outputs": [
    {
     "name": "stdout",
     "output_type": "stream",
     "text": [
      "Python version: 3.6.6 | packaged by conda-forge | (default, Jul 26 2018, 09:53:17) \n",
      "[GCC 4.8.2 20140120 (Red Hat 4.8.2-15)]\n",
      "Conda environment: pyPhD\n",
      "version of xarray: 0.10.8\n",
      "repo: /global/cscratch1/sd/bfildier/dataAnalysis/aggregation-and-extreme-rain\n",
      "Own modules available: ['thermoConstants', 'setEnv', 'thermoFunctions', 'importingData', 'statisticalDistributions', 'plot1DInvLog', 'dataFormat', 'savingResults', 'thermoConstantsForMoistAdiabat', 'scalingApproximations', 'slicingAndSubsetting', 'thermoFunctionsForMoistAdiabat', 'plot2D']\n"
     ]
    }
   ],
   "source": [
    "%autoreload 2\n",
    "\n",
    "import sys,os,glob\n",
    "print('Python version:',sys.version)\n",
    "print('Conda environment:',os.environ['CONDA_DEFAULT_ENV'])\n",
    "import numpy as np\n",
    "import matplotlib\n",
    "# matplotlib.use(\"PDF\")\n",
    "import matplotlib.pyplot as plt\n",
    "import matplotlib.colors as colors\n",
    "import matplotlib.cm as cmx\n",
    "# from mpl_toolkits.basemap import Basemap\n",
    "import xarray as xr\n",
    "print(\"version of xarray:\",xr.__version__)\n",
    "# import dask\n",
    "# from multiprocessing.pool import ThreadPool\n",
    "# dask.config.set(pool=ThreadPool(8))\n",
    "import pickle\n",
    "from pprint import pprint\n",
    "from scipy.optimize import minimize\n",
    "\n",
    "## Add own library to path\n",
    "workdir = os.getcwd()\n",
    "thismodule = sys.modules[__name__]\n",
    "repodir = workdir\n",
    "while os.path.basename(repodir) != 'aggregation-and-extreme-rain':\n",
    "    repodir = os.path.dirname(repodir)\n",
    "print('repo:',repodir)\n",
    "thismodule = sys.modules[__name__]\n",
    "moduledir = os.path.join(repodir,'functions')\n",
    "sys.path.insert(0,moduledir)\n",
    "print(\"Own modules available:\", [os.path.splitext(os.path.basename(x))[0]\n",
    "                                 for x in glob.glob(os.path.join(moduledir,'*.py'))])\n",
    "\n",
    "## Load own libraries\n",
    "from thermoConstants import *\n",
    "from statisticalDistributions import *\n",
    "from slicingAndSubsetting import *\n",
    "from scalingApproximations import *\n",
    "from plot1DInvLog import *\n",
    "from dataFormat import *\n",
    "from importingData import *\n",
    "from savingResults import *\n",
    "from plot2D import *\n",
    "\n",
    "## Graphical parameters\n",
    "plt.style.use(os.path.join(matplotlib.get_configdir(),'stylelib/presentation.mplstyle'))"
   ]
  },
  {
   "cell_type": "code",
   "execution_count": 3,
   "metadata": {
    "ExecuteTime": {
     "end_time": "2019-04-18T04:18:31.482424Z",
     "start_time": "2019-04-18T04:18:31.432596Z"
    }
   },
   "outputs": [],
   "source": [
    "archivedir = getArchivedir(machine='coriknl')\n",
    "resultdir = os.path.join(os.path.dirname(moduledir),'results')\n",
    "figuredir = os.path.join(os.path.dirname(moduledir),'figures')"
   ]
  },
  {
   "cell_type": "code",
   "execution_count": 4,
   "metadata": {
    "ExecuteTime": {
     "end_time": "2019-04-18T04:18:31.596983Z",
     "start_time": "2019-04-18T04:18:31.540151Z"
    }
   },
   "outputs": [
    {
     "name": "stdout",
     "output_type": "stream",
     "text": [
      "Simulation names: RCE_MPDATAxTKExCAMxSAM1MOM_4000x4000x15_256x256x64_TKE-SST306-r1 \n",
      " RCE_MPDATAxTKExCAMxSAM1MOM_4000x4000x15_256x256x64_TKE-SST308-r1\n"
     ]
    }
   ],
   "source": [
    "states = 'cold','warm'\n",
    "# SSTs = 300,304\n",
    "# SSTs = 300,302\n",
    "# SSTs = 302,304\n",
    "# SSTs = 304,306\n",
    "SSTs = 306,308\n",
    "\n",
    "reals = 1,1\n",
    "# reals = 2,1\n",
    "\n",
    "case = 'RCE'\n",
    "Nxyz = '256x256x64'\n",
    "Nx,Ny,Nz = np.array(Nxyz.split('x'),dtype=int)\n",
    "Nproc = np.max(np.array(Nxyz.split('x'),dtype=int))\n",
    "simroot = \"RCE_MPDATAxTKExCAMxSAM1MOM_4000x4000x15_%s\"%Nxyz\n",
    "# Experiment name\n",
    "expname_pattern = \"TKE-SST%d-r%d\"\n",
    "# expname_pattern = \"TKE-SST%d-radhomo-r%d\"\n",
    "# expname_pattern = \"TKE-SST%d-r%d-b150-sfcagg\"\n",
    "# expname_pattern = \"TKE-SST%d-r%d-b150-sfcdisagg\"\n",
    "# expname_pattern = \"TKE-SST%d-radhomo-r%d-b100-radagg\"\n",
    "expnames = {}\n",
    "simnames = {}\n",
    "for SST,r in zip(SSTs,reals):\n",
    "    expnames[SST] = expname_pattern%(SST,r)\n",
    "    simnames[SST] = \"%s_%s\"%(simroot,expnames[SST])\n",
    "    \n",
    "print(\"Simulation names:\",simnames[SSTs[0]],'\\n',simnames[SSTs[1]])\n"
   ]
  },
  {
   "cell_type": "code",
   "execution_count": 5,
   "metadata": {
    "ExecuteTime": {
     "end_time": "2019-04-18T04:18:31.740537Z",
     "start_time": "2019-04-18T04:18:31.660380Z"
    }
   },
   "outputs": [],
   "source": [
    "figdir = os.path.join(figuredir,simroot,\"%s_%s\"%(expnames[SSTs[0]],expnames[SSTs[1]]))\n",
    "if not os.path.exists(figdir): os.makedirs(figdir)\n",
    "\n",
    "resdir = {}\n",
    "for SST in SSTs:\n",
    "    resdir[SST] = os.path.join(resultdir,simroot,expnames[SST])"
   ]
  },
  {
   "cell_type": "code",
   "execution_count": 6,
   "metadata": {
    "ExecuteTime": {
     "end_time": "2019-04-18T04:18:31.859009Z",
     "start_time": "2019-04-18T04:18:31.798317Z"
    }
   },
   "outputs": [],
   "source": [
    "figsubdir_contributions = os.path.join(figdir,'dynamic_thermo_contributions')\n",
    "if not os.path.exists(figsubdir_contributions): os.makedirs(figsubdir_contributions)\n",
    "\n",
    "ressubdir_contributions = {}\n",
    "for SST in SSTs:\n",
    "    ressubdir_contributions[SST] = os.path.join(resdir[SST],'dynamic_thermo_contributions')"
   ]
  },
  {
   "cell_type": "code",
   "execution_count": 7,
   "metadata": {
    "ExecuteTime": {
     "end_time": "2019-04-18T04:18:31.984360Z",
     "start_time": "2019-04-18T04:18:31.919231Z"
    },
    "run_control": {
     "marked": false
    }
   },
   "outputs": [],
   "source": [
    "resultdir4saving = os.path.join(resultdir,'dynamic_thermo_contributions')\n",
    "# resultdir4saving = os.path.join(resultdir,'dynamic_thermo_contributions',simroot,\"%s_%s\"%(expnames[SSTs[0]],expnames[SSTs[1]]))\n",
    "if not os.path.exists(resultdir4saving): os.makedirs(resultdir4saving)"
   ]
  },
  {
   "cell_type": "markdown",
   "metadata": {
    "heading_collapsed": true
   },
   "source": [
    "# Load conditional profiles"
   ]
  },
  {
   "cell_type": "code",
   "execution_count": 8,
   "metadata": {
    "ExecuteTime": {
     "end_time": "2019-04-18T04:19:23.626235Z",
     "start_time": "2019-04-18T04:19:23.439306Z"
    },
    "hidden": true
   },
   "outputs": [
    {
     "name": "stdout",
     "output_type": "stream",
     "text": [
      "Load percentiles for all simulations similarly to compareShallowMixing\n"
     ]
    }
   ],
   "source": [
    "print(\"Load percentiles for all simulations similarly to compareShallowMixing\")\n",
    "\n",
    "i_w24 = 5 # storage index for statistics computed over 24 time slices for rainfall pdfs\n",
    "ranks_ILQ_pr = list(pickle.load(open(os.path.join(resdir[SSTs[0]],'xy_stats_over_time','ranks_ILQ_pr.pickle'),'rb')).values())[0]\n",
    "\n",
    "perc_ILQ_pr = {}\n",
    "for SST in SSTs:\n",
    "    perc_ILQ_pr[SST] = pickle.load(open(os.path.join(resdir[SST],'xy_stats_over_time','mean_percentiles_consec_sample_ILQ_pr.pickle'),'rb'))[i_w24]"
   ]
  },
  {
   "cell_type": "code",
   "execution_count": 9,
   "metadata": {
    "ExecuteTime": {
     "end_time": "2019-04-18T04:19:25.300311Z",
     "start_time": "2019-04-18T04:19:25.248853Z"
    },
    "hidden": true
   },
   "outputs": [
    {
     "name": "stdout",
     "output_type": "stream",
     "text": [
      "Define reference ranks\n"
     ]
    }
   ],
   "source": [
    "print(\"Define reference ranks\")\n",
    "\n",
    "Q_IL = ranks_ILQ_pr\n",
    "Qmax = 99.99\n",
    "iQmax = indexOfRank(Qmax,Q_IL)\n",
    "Qmin = 0\n",
    "iQmin = indexOfRank(Qmin,Q_IL)\n",
    "targetranks = Q_IL[iQmin:iQmax]\n",
    "\n",
    "sQ = slice(0,iQmax)\n",
    "sQ9999 = slice(0,indexOfRank(99.99,Q_IL))\n",
    "sQ99999 = slice(0,indexOfRank(99.999,Q_IL))\n",
    "ranks_ref = Q_IL[sQ]\n",
    "ranks_9999 = Q_IL[sQ9999]\n",
    "ranks_99999 = Q_IL[sQ99999]\n",
    "\n",
    "Qref = 99.9\n",
    "iQref = indexOfRank(Qref,Q_IL)\n",
    "sQext = slice(indexOfRank(99.9,Q_IL),indexOfRank(99.99,Q_IL))"
   ]
  },
  {
   "cell_type": "code",
   "execution_count": 10,
   "metadata": {
    "ExecuteTime": {
     "end_time": "2019-04-18T04:19:26.601133Z",
     "start_time": "2019-04-18T04:19:26.146061Z"
    },
    "hidden": true
   },
   "outputs": [
    {
     "name": "stdout",
     "output_type": "stream",
     "text": [
      "Load composited profiles of W, TABS and PRES conditioned on percentiles of PREC\n",
      "306\n",
      "308\n"
     ]
    }
   ],
   "source": [
    "print(\"Load composited profiles of W, TABS and PRES conditioned on percentiles of PREC\")\n",
    "w_prof_prQ = {}\n",
    "tabs_prof_prQ = {}\n",
    "qv_prof_prQ = {}\n",
    "p_prof = {}\n",
    "for SST in SSTs:\n",
    "    print(SST)\n",
    "    w_prof_prQ[SST] = pickle.load(open(os.path.join(ressubdir_contributions[SST],\"w_prof_FTscaling_prQ.pickle\"),'rb'))\n",
    "    tabs_prof_prQ[SST] = pickle.load(open(os.path.join(ressubdir_contributions[SST],\"tabs_prof_FTscaling_prQ.pickle\"),'rb'))\n",
    "    qv_prof_prQ[SST] = pickle.load(open(os.path.join(ressubdir_contributions[SST],\"qv_prof_FTscaling_prQ.pickle\"),'rb'))\n",
    "    p_prof[SST] = pickle.load(open(os.path.join(ressubdir_contributions[SST],\"p_prof_FTscaling.pickle\"),'rb'))\n",
    "    \n",
    "z_coord = xr.open_mfdataset(os.path.join(resultdir,'z.nc'),decode_cf=False).z"
   ]
  },
  {
   "cell_type": "markdown",
   "metadata": {},
   "source": [
    "# OGorman scaling with domain-mean temperature profile"
   ]
  },
  {
   "cell_type": "code",
   "execution_count": 72,
   "metadata": {
    "ExecuteTime": {
     "end_time": "2019-04-04T01:44:54.844854Z",
     "start_time": "2019-04-04T01:44:54.794015Z"
    }
   },
   "outputs": [],
   "source": [
    "cases_scaling = 'prQ_cold','prQ_warm','cold','warm','alpha_cold','alpha_warm',\\\n",
    "                'w_cold_p_cold','w_warm_p_cold',\\\n",
    "                'w_cold_q_warm_p_cold','w_warm_q_cold_p_cold',\\\n",
    "                'w_warm_q_warm_p_cold','w_cold_q_cold_p_warm'\n",
    "contributions = 'prQ','scaling','alpha','dynamic','thermodynamic','pressure','residual'\n",
    "contributions_fullDec = 'prQ','scaling','alpha','mass flux','w profile','thermodynamic','pressure','residual',\\\n",
    "    'NL alpha/M','NL alpha/w-profile','NL alpha/thermo','NL M/w-profile','NL M/thermo','NL w-profile/thermo'"
   ]
  },
  {
   "cell_type": "code",
   "execution_count": 73,
   "metadata": {
    "ExecuteTime": {
     "end_time": "2019-04-04T01:44:55.064518Z",
     "start_time": "2019-04-04T01:44:54.846964Z"
    },
    "scrolled": false
   },
   "outputs": [
    {
     "name": "stdout",
     "output_type": "stream",
     "text": [
      "0 1 2 3 4 5 6 7 8 9 10 11 12 13 14 15 16 17 18 19 20 21 22 23 24 25 26 27 28 29 30 31 32 33 34 35 36 37 38 "
     ]
    },
    {
     "name": "stderr",
     "output_type": "stream",
     "text": [
      "/global/homes/b/bfildier/anaconda3/envs/pyPhD/lib/python3.6/site-packages/ipykernel/__main__.py:89: RuntimeWarning: invalid value encountered in true_divide\n"
     ]
    }
   ],
   "source": [
    "## Compute fracchanges in scaling & all contributions to fracchanges\n",
    "## 'contributions' can store dictionaries of types of contributions, for each experiment\n",
    "\n",
    "deltaT = SSTs[1]-SSTs[0] # K\n",
    "w_prQ_cold = w_prof_prQ[SSTs[0]]\n",
    "w_prQ_warm = w_prof_prQ[SSTs[1]]\n",
    "tabs_prQ_cold = tabs_prof_prQ[SSTs[0]]\n",
    "tabs_prQ_warm = tabs_prof_prQ[SSTs[1]]\n",
    "\n",
    "pr_sc_all = {}\n",
    "pr_scF19_all = {}\n",
    "\n",
    "for key in cases_scaling:\n",
    "    pr_sc_all[key] = np.nan*np.zeros(ranks_ref.shape)\n",
    "    pr_scF19_all[key] = np.nan*np.zeros(ranks_ref.shape)\n",
    "\n",
    "for rank in targetranks:\n",
    "    iQ = indexOfRank(rank,ranks_ref)\n",
    "    \n",
    "    # Each term\n",
    "    pr_sc_all['prQ_cold'][iQ] = perc_ILQ_pr[SSTs[0]][iQ]\n",
    "    pr_sc_all['prQ_warm'][iQ] = perc_ILQ_pr[SSTs[1]][iQ]\n",
    "    pr_sc_all['cold'][iQ] = scalingOGS09_zcoord(w_prQ_cold[iQ],tabs_prQ_cold[iQ],p_prof[SSTs[0]],levdim=0)\n",
    "    pr_sc_all['warm'][iQ] = scalingOGS09_zcoord(w_prQ_warm[iQ],tabs_prQ_warm[iQ],p_prof[SSTs[1]],levdim=0)\n",
    "    pr_sc_all['w_cold_p_cold'][iQ] = scalingOGS09_zcoord(w_prQ_cold[iQ],tabs_prQ_cold[iQ],\n",
    "                                                                p_prof[SSTs[0]],levdim=0,ignore_qvstar=True)\n",
    "    pr_sc_all['w_warm_p_cold'][iQ] = scalingOGS09_zcoord(w_prQ_warm[iQ],tabs_prof_prQ[SSTs[1]][iQ],\n",
    "                                                                p_prof[SSTs[1]],levdim=0,ignore_qvstar=True)\n",
    "    pr_sc_all['w_cold_q_warm_p_cold'][iQ] = scalingOGS09_zcoord(w_prQ_cold[iQ],tabs_prQ_warm[iQ],\n",
    "                                                                p_prof[SSTs[0]],levdim=0)\n",
    "    pr_sc_all['w_warm_q_cold_p_cold'][iQ] = scalingOGS09_zcoord(w_prQ_warm[iQ],tabs_prQ_cold[iQ],\n",
    "                                                                p_prof[SSTs[0]],levdim=0)\n",
    "    pr_sc_all['w_warm_q_warm_p_cold'][iQ] = scalingOGS09_zcoord(w_prQ_warm[iQ],tabs_prQ_warm[iQ],\n",
    "                                                                p_prof[SSTs[0]],levdim=0)\n",
    "    pr_sc_all['w_cold_q_cold_p_warm'][iQ] = scalingOGS09_zcoord(w_prQ_cold[iQ],tabs_prQ_cold[iQ],\n",
    "                                                                p_prof[SSTs[1]],levdim=0)\n",
    "\n",
    "pr_sc_all['alpha_cold'] = minimize(lambda alpha: np.sum((pr_sc_all['prQ_cold'][sQext]-alpha*pr_sc_all['cold'][sQext]*86400)**2),1).x[0]\n",
    "pr_sc_all['alpha_warm'] = minimize(lambda alpha: np.sum((pr_sc_all['prQ_warm'][sQext]-alpha*pr_sc_all['warm'][sQext]*86400)**2),1).x[0]\n",
    "\n",
    "\n",
    "# Fractional changes\n",
    "fracChanges = {}\n",
    "fracChanges_fullDec = {}\n",
    "for key in contributions:\n",
    "    fracChanges[key] = np.nan*np.zeros(ranks_ref.shape)\n",
    "for key in contributions_fullDec:\n",
    "    fracChanges_fullDec[key] = np.nan*np.zeros(ranks_ref.shape)\n",
    "    \n",
    "fracChanges['alpha'] = (pr_sc_all['alpha_warm']/pr_sc_all['alpha_cold']-1)/deltaT*100\n",
    "fracChanges_fullDec['alpha'] = (pr_sc_all['alpha_warm']/pr_sc_all['alpha_cold']-1)/deltaT*100\n",
    "\n",
    "for rank in targetranks:\n",
    "    iQ = indexOfRank(rank,ranks_ref)\n",
    "    print(iQ,end=' ')\n",
    "    \n",
    "    if perc_ILQ_pr[SSTs[0]][iQ] != 0:\n",
    "        fracChanges['prQ'][iQ] = (perc_ILQ_pr[SSTs[1]][iQ]/perc_ILQ_pr[SSTs[0]][iQ]-1)/deltaT*100\n",
    "        fracChanges_fullDec['prQ'][iQ] = (perc_ILQ_pr[SSTs[1]][iQ]/perc_ILQ_pr[SSTs[0]][iQ]-1)/deltaT*100\n",
    "\n",
    "    if pr_sc_all['cold'][iQ] != 0:\n",
    "        \n",
    "        # Decomposition with only 1 dynamical term\n",
    "        fracChanges['scaling'][iQ] = ((pr_sc_all['warm'][iQ]*pr_sc_all['alpha_warm'])/\\\n",
    "                                      (pr_sc_all['cold'][iQ]*pr_sc_all['alpha_cold'])-1)/deltaT*100\n",
    "        fracChanges['dynamic'][iQ] = (pr_sc_all['w_warm_q_cold_p_cold'][iQ]/pr_sc_all['cold'][iQ]-1)/deltaT*100\n",
    "        fracChanges['thermodynamic'][iQ] = (pr_sc_all['w_cold_q_warm_p_cold'][iQ]/pr_sc_all['cold'][iQ]-1)/deltaT*100\n",
    "        fracChanges['pressure'][iQ] = (pr_sc_all['w_cold_q_cold_p_warm'][iQ]/pr_sc_all['cold'][iQ]-1)/deltaT*100\n",
    "        fracChanges['residual'][iQ] = fracChanges['scaling'][iQ] \\\n",
    "                                        - fracChanges['dynamic'][iQ] \\\n",
    "                                        - fracChanges['thermodynamic'][iQ] \\\n",
    "                                        - fracChanges['pressure'][iQ]\\\n",
    "                                        - fracChanges['alpha']\n",
    "\n",
    "        # Decomposition with 2 dynamical terms\n",
    "        fracChanges_fullDec['scaling'][iQ] = ((pr_sc_all['warm'][iQ]*pr_sc_all['alpha_warm'])/\\\n",
    "                                              (pr_sc_all['cold'][iQ]*pr_sc_all['alpha_cold'])-1)/deltaT*100\n",
    "        fracChanges_fullDec['mass flux'][iQ] = (pr_sc_all['w_warm_p_cold'][iQ]/\\\n",
    "                                               pr_sc_all['w_cold_p_cold'][iQ]-1)/deltaT*100\n",
    "        if pr_sc_all['w_warm_p_cold'][iQ] != 0:\n",
    "            fracChanges_fullDec['w profile'][iQ] = (pr_sc_all['w_warm_q_cold_p_cold'][iQ]*pr_sc_all['w_cold_p_cold'][iQ]/ \\\n",
    "                                                    (pr_sc_all['cold'][iQ]*pr_sc_all['w_warm_p_cold'][iQ]) - 1)/deltaT*100\n",
    "        fracChanges_fullDec['thermodynamic'][iQ] = (pr_sc_all['w_cold_q_warm_p_cold'][iQ]/pr_sc_all['cold'][iQ]-1)/deltaT*100\n",
    "\n",
    "        if pr_sc_all['cold'][iQ] != 0:\n",
    "            fracChanges_fullDec['pressure'][iQ] = (pr_sc_all['w_cold_q_cold_p_warm'][iQ]/pr_sc_all['cold'][iQ]-1)/deltaT*100\n",
    "        fracChanges_fullDec['residual'][iQ] = fracChanges_fullDec['scaling'][iQ] \\\n",
    "                                        - fracChanges_fullDec['mass flux'][iQ] \\\n",
    "                                        - fracChanges_fullDec['w profile'][iQ]\\\n",
    "                                        - fracChanges_fullDec['thermodynamic'][iQ] \\\n",
    "                                        - fracChanges_fullDec['alpha']\n",
    "        \n",
    "        # 2nd-order cross terms (where the residual comes from)\n",
    "        if pr_sc_all['w_cold_p_cold'][iQ] != 0:\n",
    "            fracChanges_fullDec['NL alpha/M'][iQ] = (pr_sc_all['alpha_warm']*pr_sc_all['w_warm_p_cold'][iQ]/\\\n",
    "                                                   (pr_sc_all['alpha_cold']*pr_sc_all['w_cold_p_cold'][iQ])-1)/deltaT*100 \\\n",
    "                                                - fracChanges_fullDec['mass flux'][iQ] \\\n",
    "                                                - fracChanges_fullDec['alpha']\n",
    "\n",
    "        if pr_sc_all['w_warm_p_cold'][iQ] != 0 and pr_sc_all['w_cold_p_cold'][iQ] != 0:\n",
    "            fracChanges_fullDec['NL alpha/w-profile'][iQ] = ((pr_sc_all['alpha_warm']*pr_sc_all['w_warm_q_cold_p_cold'][iQ]/pr_sc_all['w_warm_p_cold'][iQ])/ \\\n",
    "                                                        (pr_sc_all['alpha_cold']*pr_sc_all['cold'][iQ]/pr_sc_all['w_cold_p_cold'][iQ]) - 1)/deltaT*100 \\\n",
    "                                                            - fracChanges_fullDec['alpha'] \\\n",
    "                                                            - fracChanges_fullDec['w profile'][iQ]\n",
    "        \n",
    "        fracChanges_fullDec['NL alpha/thermo'][iQ] = ((pr_sc_all['alpha_warm']*pr_sc_all['w_cold_q_warm_p_cold'][iQ])/\\\n",
    "                                                    (pr_sc_all['alpha_cold']*pr_sc_all['cold'][iQ])-1)/deltaT*100 \\\n",
    "                                                        - fracChanges_fullDec['alpha'] \\\n",
    "                                                        - fracChanges_fullDec['thermodynamic'][iQ]\n",
    "        \n",
    "        fracChanges_fullDec['NL M/w-profile'] = (pr_sc_all['w_warm_q_cold_p_cold'][iQ]/pr_sc_all['cold'][iQ] - 1)/deltaT*100 \\\n",
    "                                                        - fracChanges_fullDec['mass flux'][iQ] \\\n",
    "                                                        - fracChanges_fullDec['w profile'][iQ]\n",
    "        \n",
    "        if pr_sc_all['w_cold_p_cold'][iQ] != 0:\n",
    "            fracChanges_fullDec['NL M/thermo'] = (pr_sc_all['w_cold_q_warm_p_cold'][iQ]*pr_sc_all['w_warm_p_cold']/pr_sc_all['w_cold_p_cold']\\\n",
    "                                                  /pr_sc_all['cold'] - 1)/deltaT*100 \\\n",
    "                                                            - fracChanges_fullDec['mass flux'][iQ] \\\n",
    "                                                            - fracChanges_fullDec['thermodynamic'][iQ]\n",
    "\n",
    "        if pr_sc_all['w_warm_p_cold'][iQ] != 0:\n",
    "            fracChanges_fullDec['NL w-profile/thermo'] = (pr_sc_all['w_warm_q_warm_p_cold'][iQ]*pr_sc_all['w_cold_p_cold'][iQ]/ \\\n",
    "                                                        (pr_sc_all['cold'][iQ]*pr_sc_all['w_warm_p_cold'][iQ]) - 1)/deltaT*100 \\\n",
    "                                                            - fracChanges_fullDec['w profile'][iQ] \\\n",
    "                                                            - fracChanges_fullDec['thermodynamic'][iQ]"
   ]
  },
  {
   "cell_type": "code",
   "execution_count": 74,
   "metadata": {
    "ExecuteTime": {
     "end_time": "2019-04-04T01:44:55.117667Z",
     "start_time": "2019-04-04T01:44:55.066789Z"
    }
   },
   "outputs": [
    {
     "name": "stdout",
     "output_type": "stream",
     "text": [
      "10.605949605949606\n"
     ]
    }
   ],
   "source": [
    "n=0\n",
    "for i in range(9,17):\n",
    "    n = n + 1/i\n",
    "print(n*16)"
   ]
  },
  {
   "cell_type": "code",
   "execution_count": 75,
   "metadata": {
    "ExecuteTime": {
     "end_time": "2019-04-04T01:44:55.778478Z",
     "start_time": "2019-04-04T01:44:55.120047Z"
    }
   },
   "outputs": [
    {
     "name": "stdout",
     "output_type": "stream",
     "text": [
      "save all\n"
     ]
    }
   ],
   "source": [
    "print('save all')\n",
    "\n",
    "# key = simnames[SSTs[0]]\n",
    "key = \"%s_%s\"%(simnames[SSTs[0]],simnames[SSTs[1]])\n",
    "\n",
    "fracChanges_all = {}\n",
    "fracChanges_all[key] = fracChanges\n",
    "\n",
    "fracChanges_fullDec_all = {}\n",
    "fracChanges_fullDec_all[key] = fracChanges_fullDec\n",
    "\n",
    "crossScaling_all = {}\n",
    "crossScaling_all[key] = pr_sc_all\n",
    "\n",
    "overwrite = False\n",
    "\n",
    "save2object(crossScaling_all,os.path.join(resultdir4saving,'cross_scaling_for_fracchange_prQ_and_contributions.pickle'),\n",
    "            overwrite=overwrite)\n",
    "save2object(fracChanges_all,os.path.join(resultdir4saving,'fractionalChanges_prQ_and_contributions.pickle'),\n",
    "            overwrite=overwrite)\n",
    "save2object(fracChanges_fullDec_all,os.path.join(resultdir4saving,'fractionalChanges_prQ_and_contributions_fullDec.pickle'),\n",
    "            overwrite=overwrite)"
   ]
  },
  {
   "cell_type": "markdown",
   "metadata": {},
   "source": [
    "# Compare various scalings at fixed SST"
   ]
  },
  {
   "cell_type": "code",
   "execution_count": 11,
   "metadata": {
    "ExecuteTime": {
     "end_time": "2019-04-18T04:19:31.325535Z",
     "start_time": "2019-04-18T04:19:31.279679Z"
    }
   },
   "outputs": [],
   "source": [
    "SST = 306"
   ]
  },
  {
   "cell_type": "markdown",
   "metadata": {},
   "source": [
    "## Compute OGS09 scaling with domain mean temperature profile"
   ]
  },
  {
   "cell_type": "code",
   "execution_count": 27,
   "metadata": {
    "ExecuteTime": {
     "end_time": "2019-04-18T04:25:08.032029Z",
     "start_time": "2019-04-18T04:25:07.611352Z"
    }
   },
   "outputs": [
    {
     "name": "stdout",
     "output_type": "stream",
     "text": [
      "Compute kernel terms for all scalings\n"
     ]
    }
   ],
   "source": [
    "print(\"Compute kernel terms for all scalings\")\n",
    "\n",
    "w_prQ = w_prof_prQ[SST]\n",
    "tabs_prQ = tabs_prof_prQ[SST]\n",
    "qv_prQ = qv_prof_prQ[SST]/1000\n",
    "pres = p_prof[SST]*100\n",
    "\n",
    "# Initialize\n",
    "pr_scalings = {}\n",
    "# pr_scOGS09ad_all = {}\n",
    "\n",
    "keys = 'prQ','kernel_OGS09','kernel_OGS09ad','ent_L13','ent_L13ad','mf'\n",
    "\n",
    "for key in keys:\n",
    "    pr_scalings[key] = np.nan*np.zeros(ranks_ref.shape)\n",
    "\n",
    "for rank in targetranks:\n",
    "    iQ = indexOfRank(rank,ranks_ref)\n",
    "\n",
    "    # Each term\n",
    "    pr_scalings['prQ'][iQ] = perc_ILQ_pr[SST][iQ]\n",
    "    pr_scalings['kernel_OGS09'][iQ] = -scalingOGS09_zcoord(w_prQ[iQ],tabs_prQ[iQ],pres,z_coord.data,levdim=0)\n",
    "    pr_scalings['kernel_OGS09ad'][iQ] = -scalingOGS09_zcoord(w_prQ[iQ],tabs_prQ[iQ],pres,z_coord.data,spechum=qv_prQ[iQ],\\\n",
    "                                                           temp_type='adiabat',levdim=0)\n",
    "    pr_scalings['ent_L13'][iQ] = -scalingAdditionL13_zcoord(w_prQ[iQ],tabs_prQ[iQ],pres,z_coord.data,qv_prQ[iQ],\\\n",
    "                                                          levdim=0)\n",
    "    pr_scalings['ent_L13ad'][iQ] = -scalingAdditionL13_zcoord(w_prQ[iQ],tabs_prQ[iQ],pres,z_coord.data,qv_prQ[iQ],\\\n",
    "                                                           temp_type='adiabat',levdim=0)\n",
    "    pr_scalings['mf'][iQ] = verticalPressureIntegral(pres_c,\n",
    "                                         values=w_prQ[iQ],\n",
    "                                         levdim=levdim)"
   ]
  },
  {
   "cell_type": "code",
   "execution_count": 34,
   "metadata": {
    "ExecuteTime": {
     "end_time": "2019-04-18T04:27:42.014952Z",
     "start_time": "2019-04-18T04:27:41.962623Z"
    },
    "hide_input": true,
    "scrolled": true
   },
   "outputs": [
    {
     "name": "stdout",
     "output_type": "stream",
     "text": [
      "Define function to compute precipitation efficiency/entrainment coefficients\n"
     ]
    }
   ],
   "source": [
    "print(\"Define function to compute precipitation efficiency/entrainment coefficients\")\n",
    "\n",
    "from scipy.optimize import curve_fit\n",
    "\n",
    "def computePE(fitranks,ranks,percentiles,kernel,addition=None):\n",
    "    \n",
    "    \"\"\"fitranks: ranks over which the fit is performed\n",
    "    ranks: all ranks corresponding to 'percentiles' values\n",
    "    percentiles: rain percentiles\n",
    "    kernel: integral of the adiabatic condensation rate\n",
    "    addition: integral of the entrainment term (without coefficient)\"\"\"\n",
    "    \n",
    "    iQ_0 = indexOfRank(fitranks[0],ranks)\n",
    "    iQ_1 = indexOfRank(fitranks[-1],ranks)\n",
    "    sQ = slice(iQ_0,iQ_1+1)\n",
    "    \n",
    "    x0 = kernel[sQ]\n",
    "    y = percentiles[sQ]\n",
    "\n",
    "    if addition is None:\n",
    "        x = x0\n",
    "        f = lambda x,alpha: alpha*x\n",
    "    else:\n",
    "        x1 = addition[sQ]\n",
    "        x = np.vstack([x0,x1])\n",
    "        f = lambda x,alpha: x[0] + alpha*x[1]\n",
    "\n",
    "    return curve_fit(f,x,y,p0=0.5)\n",
    "\n"
   ]
  },
  {
   "cell_type": "code",
   "execution_count": 39,
   "metadata": {
    "ExecuteTime": {
     "end_time": "2019-04-18T04:35:31.425328Z",
     "start_time": "2019-04-18T04:35:31.369656Z"
    }
   },
   "outputs": [
    {
     "name": "stdout",
     "output_type": "stream",
     "text": [
      "Compute precipitation efficiency/entrainment coefficients for each scaling\n",
      "PE_OGS09 (array([ 0.9408312]), array([[  9.97417543e-05]]))\n",
      "PE_OGS09ad (array([ 0.89268491]), array([[ 0.00010283]]))\n",
      "e_L13 (array([ 0.00080616]), array([[  7.34606938e-08]]))\n",
      "e_L13ad (array([ 0.00253247]), array([[  1.86808302e-07]]))\n"
     ]
    }
   ],
   "source": [
    "print(\"Compute precipitation efficiency/entrainment coefficients for each scaling\")\n",
    "\n",
    "fitranks = ranks_ref[29:39]\n",
    "\n",
    "pr_ref = pr_scalings['prQ']/86400\n",
    "\n",
    "## Compute parameters\n",
    "pr_scalings['PE_OGS09'] = computePE(fitranks,ranks_ref,pr_ref,pr_scalings['kernel_OGS09'])\n",
    "pr_scalings['PE_OGS09ad'] = computePE(fitranks,ranks_ref,pr_ref,pr_scalings['kernel_OGS09ad'])\n",
    "pr_scalings['e_L13'] = computePE(fitranks,ranks_ref,pr_ref,pr_scalings['kernel_OGS09'],pr_scalings['ent_L13'])\n",
    "pr_scalings['e_L13ad'] = computePE(fitranks,ranks_ref,pr_ref,pr_scalings['kernel_OGS09ad'],pr_scalings['ent_L13ad'])\n",
    "\n",
    "## Show\n",
    "keys = 'PE_OGS09','PE_OGS09ad','e_L13','e_L13ad'\n",
    "for key in keys:\n",
    "    print(key,pr_scalings[key])\n",
    "\n",
    "## Compute scalings\n",
    "pr_scalings['sc_OGS09'] = pr_scalings['PE_OGS09'][0]*pr_scalings['kernel_OGS09']\n",
    "pr_scalings['sc_OGS09ad'] = pr_scalings['PE_OGS09ad'][0]*pr_scalings['kernel_OGS09ad']\n",
    "pr_scalings['sc_L13'] = pr_scalings['kernel_OGS09'] + pr_scalings['e_L13'][0]*pr_scalings['ent_L13']\n",
    "pr_scalings['sc_L13ad'] = pr_scalings['kernel_OGS09ad'] + pr_scalings['e_L13ad'][0]*pr_scalings['ent_L13ad']"
   ]
  },
  {
   "cell_type": "code",
   "execution_count": 42,
   "metadata": {
    "ExecuteTime": {
     "end_time": "2019-04-18T04:41:37.762312Z",
     "start_time": "2019-04-18T04:41:37.171825Z"
    }
   },
   "outputs": [
    {
     "name": "stdout",
     "output_type": "stream",
     "text": [
      "Show scalings\n"
     ]
    },
    {
     "data": {
      "text/plain": [
       "(1584.8931924612116, 0.8)"
      ]
     },
     "execution_count": 42,
     "metadata": {},
     "output_type": "execute_result"
    },
    {
     "data": {
      "image/png": "[encoded data removed]",
      "text/plain": [
       "<Figure size 360x360 with 2 Axes>"
      ]
     },
     "metadata": {},
     "output_type": "display_data"
    }
   ],
   "source": [
    "print(\"Show scalings\")\n",
    "\n",
    "fig,ax = plt.subplots(ncols=1,figsize=(5,5))\n",
    "\n",
    "x = np.flipud(1./(1-ranks_ref[:-1]/100.))\n",
    "addZeroLine(ax,x,alpha=0)\n",
    "\n",
    "subplotRanksILog(ax,ranks_ref,\n",
    "                 [pr_scalings['prQ'],\n",
    "                  pr_scalings['sc_OGS09']*86400,\n",
    "                  pr_scalings['sc_OGS09ad']*86400,\n",
    "                  pr_scalings['sc_L13']*86400,\n",
    "                  pr_scalings['sc_L13ad']*86400],\n",
    "                 col=['k','purple','b','red','brown'],\n",
    "                 ltype=['-',':',':',':',':'],\n",
    "                 labels=['prQ','sc_OGS09','sc_OGS09ad','sc_L13','sc_L13ad'],\n",
    "                 transformX=True)\n",
    "\n",
    "ax.legend(loc='best',fontsize=14)\n",
    "ax.set_xlabel('Percentile rank (%)')\n",
    "ax.set_ylabel(r'Rainfall percentile $P^Q$ (mm/day)')\n",
    "\n",
    "# Crop x-axis\n",
    "iQ_min = 8\n",
    "x = np.flipud(1./(1-ranks_ref/100.))\n",
    "ax.set_xlim((x[iQ_min-1],0.8))"
   ]
  },
  {
   "cell_type": "code",
   "execution_count": null,
   "metadata": {},
   "outputs": [],
   "source": [
    "print(\"Save coefficients and individual components \")"
   ]
  },
  {
   "cell_type": "markdown",
   "metadata": {},
   "source": [
    "## Plot fracchanges in $P$, $P_{sc}$ and each contrib"
   ]
  },
  {
   "cell_type": "code",
   "execution_count": 76,
   "metadata": {
    "ExecuteTime": {
     "end_time": "2019-04-04T01:44:56.523477Z",
     "start_time": "2019-04-04T01:44:55.780374Z"
    }
   },
   "outputs": [
    {
     "data": {
      "image/png": "[encoded data removed]",
      "text/plain": [
       "<Figure size 360x360 with 2 Axes>"
      ]
     },
     "metadata": {},
     "output_type": "display_data"
    }
   ],
   "source": [
    "s = sQ\n",
    "# s = sQ99999\n",
    "\n",
    "fig,ax = plt.subplots(ncols=1,figsize=(5,5))\n",
    "# ax.set_ylim((-5,20))\n",
    "\n",
    "x = np.flipud(1./(1-ranks_ref[:-1]/100.))\n",
    "addZeroLine(ax,x,alpha=0)\n",
    "\n",
    "subplotRanksILog(ax,ranks_ref,\n",
    "                 [pr_sc_all['prQ_cold'],pr_sc_all['prQ_warm'],\n",
    "                  pr_sc_all['alpha_cold']*pr_sc_all['cold']*86400,\n",
    "                  pr_sc_all['alpha_warm']*pr_sc_all['warm']*86400],\n",
    "                 col=['k','purple','k','purple'],\n",
    "                 ltype=['-','-',':',':'],\n",
    "                 labels=['SST = %dK'%SSTs[0],'SST = %dK'%SSTs[1],'scaling',''],\n",
    "                 transformX=True)\n",
    "\n",
    "ax.legend(loc='best',fontsize=14)\n",
    "ax.set_xlabel('Percentile rank (%)')\n",
    "ax.set_ylabel(r'Rainfall percentile $P^Q$ (mm/day)')\n",
    "\n",
    "# Crop x-axis\n",
    "iQ_min = 8\n",
    "x = np.flipud(1./(1-ranks_ref/100.))\n",
    "ax.set_xlim((x[iQ_min-1],0.8))\n",
    "\n",
    "plt.savefig(os.path.join(figuredir,'percentiles_and_scaling_%s_%s.pdf'%(expnames[SSTs[0]],expnames[SSTs[1]])),\n",
    "            bbox_layout='tight')\n",
    "plt.show()"
   ]
  },
  {
   "cell_type": "code",
   "execution_count": 77,
   "metadata": {
    "ExecuteTime": {
     "end_time": "2019-04-04T01:44:57.240297Z",
     "start_time": "2019-04-04T01:44:56.525520Z"
    }
   },
   "outputs": [
    {
     "name": "stdout",
     "output_type": "stream",
     "text": [
      "prQ\n",
      "scaling\n",
      "alpha\n",
      "dynamic\n",
      "thermodynamic\n",
      "pressure\n",
      "residual\n"
     ]
    },
    {
     "data": {
      "image/png": "[encoded data removed]",
      "text/plain": [
       "<Figure size 360x360 with 2 Axes>"
      ]
     },
     "metadata": {},
     "output_type": "display_data"
    }
   ],
   "source": [
    "## For each experiment, plot all of the above\n",
    "\n",
    "# simnames_agg_disagg_warming = \\\n",
    "# 'RCE_MPDATAxTKExCAMxSAM1MOM_4000x4000x15_256x256x64_TKE-SST300-radhomo-r1',\\\n",
    "# 'RCE_MPDATAxTKExCAMxSAM1MOM_4000x4000x15_256x256x64_TKE-SST300-r1',\\\n",
    "# 'RCE_MPDATAxTKExCAMxSAM1MOM_4000x4000x15_256x256x64_TKE-SST304-radhomo-r1',\\\n",
    "# 'RCE_MPDATAxTKExCAMxSAM1MOM_4000x4000x15_256x256x64_TKE-SST304-r1'\n",
    "\n",
    "# c = ['k','k','purple','purple']\n",
    "# lt = ['-','--','-','--']\n",
    "# labs = [r'$\\mathcal{D}$, 300K',\\\n",
    "#         '$\\mathcal{O}$, 300K',\\\n",
    "#         '$\\mathcal{D}$, 304K',\\\n",
    "#         '$\\mathcal{O}$, 304K']\n",
    "\n",
    "s = sQ\n",
    "# s = sQ99999\n",
    "\n",
    "fig,ax = plt.subplots(ncols=1,figsize=(5,5))\n",
    "ax.set_ylim((-6,20))\n",
    "\n",
    "x = np.flipud(1./(1-ranks_ref[:-1]/100.))\n",
    "addZeroLine(ax,x,alpha=0)\n",
    "\n",
    "for ic in range(len(contributions)):\n",
    "\n",
    "    contribution = contributions[ic]\n",
    "    print(contribution)\n",
    "    fccontrib = fracChanges[contribution]\n",
    "    if fccontrib.__class__ == np.float64:\n",
    "        fccontrib = fccontrib*np.ones(ranks_ref.shape)\n",
    "\n",
    "    subplotRanksILog(ax,ranks_ref,\n",
    "                     fccontrib,\n",
    "#                      col=c[i],\n",
    "#                      ltype=lt[i],\n",
    "                     labels=contribution,\n",
    "                     transformX=ic==len(contributions)-1)\n",
    "\n",
    "ax.legend(loc='best',fontsize=11)\n",
    "ax.set_xlabel('Percentile rank (%)')\n",
    "# ax.set_ylabel(r'Rainfall percentile $P^Q$ (mm/day)')\n",
    "\n",
    "# Crop x-axis\n",
    "iQ_min = 8\n",
    "x = np.flipud(1./(1-ranks_ref/100.))\n",
    "ax.set_xlim((x[iQ_min-1],0.8))\n",
    "\n",
    "plt.savefig(os.path.join(figuredir,'percentiles_org_disorg_300_304.pdf'),\n",
    "            bbox_layout='tight')\n",
    "plt.show()"
   ]
  },
  {
   "cell_type": "code",
   "execution_count": 78,
   "metadata": {
    "ExecuteTime": {
     "end_time": "2019-04-04T01:44:57.292027Z",
     "start_time": "2019-04-04T01:44:57.242227Z"
    }
   },
   "outputs": [],
   "source": [
    "## What matters overall, for organized vs. disorganized?\n",
    "## Plot that specifically"
   ]
  },
  {
   "cell_type": "code",
   "execution_count": 79,
   "metadata": {
    "ExecuteTime": {
     "end_time": "2019-04-04T01:44:57.341098Z",
     "start_time": "2019-04-04T01:44:57.294554Z"
    }
   },
   "outputs": [],
   "source": [
    "## Dig into aggregated experiments with different surface forcings"
   ]
  },
  {
   "cell_type": "code",
   "execution_count": 80,
   "metadata": {
    "ExecuteTime": {
     "end_time": "2019-04-04T01:44:57.386974Z",
     "start_time": "2019-04-04T01:44:57.343199Z"
    }
   },
   "outputs": [],
   "source": [
    "## Dig into aggregated experiments with different shallow convective mixing"
   ]
  }
 ],
 "metadata": {
  "hide_input": false,
  "kernelspec": {
   "display_name": "Python 3",
   "language": "python",
   "name": "python3"
  },
  "language_info": {
   "codemirror_mode": {
    "name": "ipython",
    "version": 3
   },
   "file_extension": ".py",
   "mimetype": "text/x-python",
   "name": "python",
   "nbconvert_exporter": "python",
   "pygments_lexer": "ipython3",
   "version": "3.7.6"
  },
  "latex_envs": {
   "LaTeX_envs_menu_present": true,
   "autoclose": false,
   "autocomplete": true,
   "bibliofile": "biblio.bib",
   "cite_by": "apalike",
   "current_citInitial": 1,
   "eqLabelWithNumbers": true,
   "eqNumInitial": 1,
   "hotkeys": {
    "equation": "Ctrl-E",
    "itemize": "Ctrl-I"
   },
   "labels_anchors": false,
   "latex_user_defs": false,
   "report_style_numbering": false,
   "user_envs_cfg": false
  },
  "toc": {
   "base_numbering": 1,
   "nav_menu": {},
   "number_sections": true,
   "sideBar": true,
   "skip_h1_title": false,
   "title_cell": "Table of Contents",
   "title_sidebar": "Contents",
   "toc_cell": false,
   "toc_position": {
    "height": "calc(100% - 180px)",
    "left": "10px",
    "top": "150px",
    "width": "165px"
   },
   "toc_section_display": true,
   "toc_window_display": false
  },
  "varInspector": {
   "cols": {
    "lenName": 16,
    "lenType": 16,
    "lenVar": 40
   },
   "kernels_config": {
    "python": {
     "delete_cmd_postfix": "",
     "delete_cmd_prefix": "del ",
     "library": "var_list.py",
     "varRefreshCmd": "print(var_dic_list())"
    },
    "r": {
     "delete_cmd_postfix": ") ",
     "delete_cmd_prefix": "rm(",
     "library": "var_list.r",
     "varRefreshCmd": "cat(var_dic_list()) "
    }
   },
   "types_to_exclude": [
    "module",
    "function",
    "builtin_function_or_method",
    "instance",
    "_Feature"
   ],
   "window_display": false
  }
 },
 "nbformat": 4,
 "nbformat_minor": 2
}
