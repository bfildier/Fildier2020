{
 "cells": [
  {
   "cell_type": "code",
   "execution_count": 1,
   "metadata": {
    "ExecuteTime": {
     "end_time": "2019-04-12T00:24:11.727239Z",
     "start_time": "2019-04-12T00:24:07.647195Z"
    }
   },
   "outputs": [],
   "source": [
    "%load_ext autoreload\n",
    "%matplotlib inline"
   ]
  },
  {
   "cell_type": "code",
   "execution_count": 2,
   "metadata": {
    "ExecuteTime": {
     "end_time": "2019-04-12T00:24:46.350961Z",
     "start_time": "2019-04-12T00:24:11.730505Z"
    }
   },
   "outputs": [
    {
     "name": "stdout",
     "output_type": "stream",
     "text": [
      "repo: /global/cscratch1/sd/bfildier/dataAnalysis/aggregation-and-extreme-rain\n",
      "Own modules available: ['thermoConstants', 'setEnv', 'thermoFunctions', 'importingData', 'statisticalDistributions', 'plot1DInvLog', 'dataFormat', 'savingResults', 'thermoConstantsForMoistAdiabat', 'scalingApproximations', 'slicingAndSubsetting', 'thermoFunctionsForMoistAdiabat', 'plot2D']\n"
     ]
    }
   ],
   "source": [
    "%autoreload 2\n",
    "\n",
    "import sys,os,glob\n",
    "import numpy as np\n",
    "import matplotlib\n",
    "# matplotlib.use(\"PDF\")\n",
    "import matplotlib.pyplot as plt\n",
    "import matplotlib.colors as colors\n",
    "import matplotlib.cm as cmx\n",
    "# from mpl_toolkits.basemap import Basemap\n",
    "import xarray as xr\n",
    "from scipy.optimize import curve_fit\n",
    "# import dask\n",
    "# from multiprocessing.pool import ThreadPool\n",
    "# dask.config.set(pool=ThreadPool(8))\n",
    "\n",
    "## Add own library to path\n",
    "workdir = os.getcwd()\n",
    "repodir = workdir\n",
    "while os.path.basename(repodir) != 'aggregation-and-extreme-rain':\n",
    "    repodir = os.path.dirname(repodir)\n",
    "print('repo:',repodir)\n",
    "thismodule = sys.modules[__name__]\n",
    "moduledir = os.path.join(repodir,'functions')\n",
    "sys.path.insert(0,moduledir)\n",
    "print(\"Own modules available:\", [os.path.splitext(os.path.basename(x))[0]\n",
    "                                 for x in glob.glob(os.path.join(moduledir,'*.py'))])\n",
    "\n",
    "## Load own libraries\n",
    "from thermoConstants import *\n",
    "from thermoFunctions import *\n",
    "from statisticalDistributions import *\n",
    "from slicingAndSubsetting import *\n",
    "from scalingApproximations import *\n",
    "from plot1DInvLog import *\n",
    "from dataFormat import *\n",
    "from importingData import *\n",
    "from savingResults import *\n",
    "from plot2D import *\n",
    "\n",
    "## Graphical parameters\n",
    "plt.style.use(os.path.join(matplotlib.get_configdir(),'stylelib/presentation.mplstyle'))"
   ]
  },
  {
   "cell_type": "code",
   "execution_count": 3,
   "metadata": {
    "ExecuteTime": {
     "end_time": "2019-04-12T00:24:46.407040Z",
     "start_time": "2019-04-12T00:24:46.353298Z"
    }
   },
   "outputs": [],
   "source": [
    "archivedir = getArchivedir(machine='coriknl')\n",
    "resultdir = os.path.join(os.path.dirname(moduledir),'results')\n",
    "figuredir = os.path.join(os.path.dirname(moduledir),'figures')"
   ]
  },
  {
   "cell_type": "code",
   "execution_count": 4,
   "metadata": {
    "ExecuteTime": {
     "end_time": "2019-04-12T00:26:33.547955Z",
     "start_time": "2019-04-12T00:26:33.481498Z"
    },
    "scrolled": true
   },
   "outputs": [
    {
     "name": "stdout",
     "output_type": "stream",
     "text": [
      "Simulation name: RCE_MPDATAxTKExCAMxSAM1MOM_4000x4000x15_256x256x64_TKE-SST308-r1\n",
      "daymin, daymax = (80.0, 100.0)\n",
      "stepmin, stepmax = (460800, 576000)\n"
     ]
    }
   ],
   "source": [
    "fromsimname=True\n",
    "\n",
    "if fromsimname: # Extract simulation attributes from simname\n",
    "    \n",
    "    simname = \"RCE_MPDATAxTKExCAMxSAM1MOM_4000x4000x15_256x256x64_TKE-SST308-r1\"\n",
    "    print(\"Simulation name:\",simname)\n",
    "    chunks = simname.split('_')\n",
    "    case = chunks[0]\n",
    "    Nxyz = chunks[3]\n",
    "    Nx,Ny,Nz = np.array(Nxyz.split('x'),dtype=int)\n",
    "    Nproc = np.max(np.array(Nxyz.split('x'),dtype=int))\n",
    "    simroot = '_'.join(chunks[:4])\n",
    "    expname = chunks[4]\n",
    "    expchunks = expname.split('-')\n",
    "    SST = int([expchunk[-3:] for expchunk in expchunks if re.match(\"SST*\",expchunk)][0])\n",
    "\n",
    "else: # Define simname from simulation attributes\n",
    "\n",
    "    case = 'RCE'\n",
    "    Nxyz = '256x256x64'\n",
    "    Nx,Ny,Nz = np.array(Nxyz.split('x'),dtype=int)\n",
    "    Nproc = np.max(np.array(Nxyz.split('x'),dtype=int))\n",
    "    simroot = \"RCE_MPDATAxTKExCAMxSAM1MOM_4000x4000x15_%s\"%Nxyz\n",
    "    # Experiment name\n",
    "    SST = 304\n",
    "#     expname = \"TKE-SST%d-r1\"%SST\n",
    "#     expname = \"TKE-SST%d-radhomo-r1\"%SST\n",
    "#     expname = \"TKE-SST%d-r1-b150-sfcdisagg\"%SST\n",
    "#     expname = \"TKE-SST%d-r1-b150-tkzfd4\"%SST\n",
    "    expname = \"TKE-SST%d-radhomo-r1-b100-radagg\"%SST\n",
    "    # Simulation full name\n",
    "    simname = \"%s_%s\"%(simroot,expname)\n",
    "    print(\"Simulation name:\",simname)\n",
    "\n",
    "day_origin = getDayOrigin(expname) #ndays\n",
    "dt = 15 # s\n",
    "\n",
    "# Compute last step for 3D files\n",
    "getMaxStep = False\n",
    "# getMaxStep = True\n",
    "if getMaxStep:\n",
    "    allfiles_3D = glob.glob(os.path.join(archivedir,simname,'OUT_3D/*.nc'))\n",
    "    allfiles_3D.sort()\n",
    "    lastfile_3D = allfiles_3D[-1]\n",
    "    stepmax = int(lastfile_3D.split('_')[-1].split('.')[0])\n",
    "else:\n",
    "    stepmax = 576000 # 100 days\n",
    "#     stepmax = 720000 # 125 days\n",
    "    \n",
    "    \n",
    "daymax = stepmax*dt/24/3600 + day_origin\n",
    "# First step\n",
    "ndays = 20\n",
    "daymin = daymax-ndays\n",
    "stepmin = int((daymin-day_origin)*24*3600/dt)\n",
    "print(\"daymin, daymax =\",(daymin,daymax))\n",
    "print(\"stepmin, stepmax =\",(stepmin,stepmax))"
   ]
  },
  {
   "cell_type": "code",
   "execution_count": 5,
   "metadata": {
    "ExecuteTime": {
     "end_time": "2019-04-01T18:44:34.026471Z",
     "start_time": "2019-04-01T18:42:59.690924Z"
    },
    "scrolled": true
   },
   "outputs": [
    {
     "name": "stdout",
     "output_type": "stream",
     "text": [
      "Load data\n",
      "..2D\n",
      "-- Updating time range:\n",
      "daymin, daymax = (63.0, 83.0)\n",
      "stepmin, stepmax = (362880, 478080)\n",
      "..3D\n"
     ]
    }
   ],
   "source": [
    "print(\"Load data\")\n",
    "\n",
    "# load 2D data\n",
    "print(\"..2D\")\n",
    "file_pattern_2D = os.path.join(archivedir,simname,'OUT_2D','%s_%d.2Dcom_*.nc'%(simname,Nproc))\n",
    "var2drop = ['PBLH', 'SHF', 'LHF', 'LWNS', 'LWNSC', 'LWNT', 'LWNTC',\\\n",
    "            'SOLIN', 'SWNS', 'SWNSC', 'SWNT', 'SWNTC', 'CWP', 'IWP', 'CLD', 'USFC', 'U200',\\\n",
    "            'VSFC', 'V200', 'W730', 'PSFC', 'SWVP', 'U850', 'V850', 'ZC', 'TB', 'ZE']\n",
    "ds_2D = xr.open_mfdataset(file_pattern_2D,decode_cf=False,data_vars=['Prec'],drop_variables=var2drop)\n",
    "\n",
    "# Check times available in 2D file and update time range if necessary\n",
    "if daymax > ds_2D['time'][-1]:\n",
    "    # update daymax, stepmax\n",
    "    daymax = float(floor(ds_2D['time'][-1]))\n",
    "    stepmax = int(daymax*24*3600/dt)\n",
    "    # update daymin, daymin\n",
    "    daymin = daymax-ndays\n",
    "    stepmin = int((daymin-day_origin)*24*3600/dt)\n",
    "    # print new range\n",
    "    print(\"-- Updating time range:\")\n",
    "    print(\"daymin, daymax =\",(daymin,daymax))\n",
    "    print(\"stepmin, stepmax =\",(stepmin,stepmax))\n",
    "\n",
    "# load 3D data\n",
    "print(\"..3D\")\n",
    "steprange = (stepmin,stepmax)\n",
    "files_in_steprange = get3DFilesBetweenSteps(archivedir,simname,steprange)\n",
    "ds_3D = xr.open_mfdataset(files_in_steprange,decode_cf=False)"
   ]
  },
  {
   "cell_type": "code",
   "execution_count": 6,
   "metadata": {
    "ExecuteTime": {
     "end_time": "2019-04-01T19:20:07.025458Z",
     "start_time": "2019-04-01T19:20:06.707621Z"
    }
   },
   "outputs": [
    {
     "name": "stdout",
     "output_type": "stream",
     "text": [
      "define time slice for 2D data\n",
      "63.0 83.0\n",
      "index range: (1512, 1991)\n"
     ]
    }
   ],
   "source": [
    "print(\"define time slice for 2D data\")\n",
    "\n",
    "# Find i2D_max\n",
    "i2D_max = np.where(ds_2D['time'] == daymax)[0][0]\n",
    "\n",
    "# Find i2D_min\n",
    "if daymin < ds_2D['time'][0]:\n",
    "    i2D_min = 0\n",
    "else:\n",
    "    i2D_min = np.where(np.abs(ds_2D['time'].data-(daymin+1/24)) < 1e-3)[0][0]\n",
    "# i2D_min = np.where(ds_2D['time'] == daymin)[0][0]\n",
    "\n",
    "s_t2D = slice(i2D_min,i2D_max+1)\n",
    "print(daymin, daymax)\n",
    "print('index range:',(i2D_min,i2D_max))"
   ]
  },
  {
   "cell_type": "code",
   "execution_count": 9,
   "metadata": {
    "ExecuteTime": {
     "end_time": "2019-04-01T19:20:07.733961Z",
     "start_time": "2019-04-01T19:20:07.153244Z"
    }
   },
   "outputs": [],
   "source": [
    "figdir = os.path.join(figuredir,simroot,expname)\n",
    "if not os.path.exists(figdir): os.makedirs(figdir)\n",
    "    \n",
    "resdir = os.path.join(resultdir,simroot,expname)\n",
    "if not os.path.exists(resdir): os.makedirs(resdir)"
   ]
  },
  {
   "cell_type": "code",
   "execution_count": 10,
   "metadata": {
    "ExecuteTime": {
     "end_time": "2019-04-01T19:20:07.790705Z",
     "start_time": "2019-04-01T19:20:07.736317Z"
    }
   },
   "outputs": [],
   "source": [
    "figsubdir_contributions = os.path.join(figdir,'dynamic_thermo_contributions')\n",
    "if not os.path.exists(figsubdir_contributions): os.makedirs(figsubdir_contributions)\n",
    "    \n",
    "ressubdir_contributions = os.path.join(resdir,'dynamic_thermo_contributions')\n",
    "if not os.path.exists(ressubdir_contributions): os.makedirs(ressubdir_contributions)"
   ]
  },
  {
   "cell_type": "markdown",
   "metadata": {},
   "source": [
    "# Reference stats"
   ]
  },
  {
   "cell_type": "code",
   "execution_count": 11,
   "metadata": {
    "ExecuteTime": {
     "end_time": "2019-04-01T19:20:07.861525Z",
     "start_time": "2019-04-01T19:20:07.792828Z"
    }
   },
   "outputs": [],
   "source": [
    "loadresultsubdir = os.path.join(resdir,'xy_stats_over_time')"
   ]
  },
  {
   "cell_type": "code",
   "execution_count": 12,
   "metadata": {
    "ExecuteTime": {
     "end_time": "2019-04-01T19:20:07.963853Z",
     "start_time": "2019-04-01T19:20:07.865405Z"
    }
   },
   "outputs": [
    {
     "name": "stdout",
     "output_type": "stream",
     "text": [
      "Load reference precipitation statistics\n"
     ]
    }
   ],
   "source": [
    "print(\"Load reference precipitation statistics\")\n",
    "i_w24 = 5 # storage index for statistics computed over 24 time slices for rainfall pdfs\n",
    "perc_ILQ_pr = pickle.load(open(os.path.join(loadresultsubdir,'mean_percentiles_consec_sample_ILQ_pr.pickle'),'rb'))[i_w24]\n",
    "bins_ILQ_pr = pickle.load(open(os.path.join(loadresultsubdir,'mean_bins_consec_sample_ILQ_pr.pickle'),'rb'))[i_w24]\n",
    "ranks_ILQ_pr = pickle.load(open(os.path.join(loadresultsubdir,'ranks_ILQ_pr.pickle'),'rb'))\n",
    "ranks = list(ranks_ILQ_pr.values())[0]"
   ]
  },
  {
   "cell_type": "code",
   "execution_count": 13,
   "metadata": {
    "ExecuteTime": {
     "end_time": "2019-04-01T19:20:08.024160Z",
     "start_time": "2019-04-01T19:20:07.967535Z"
    },
    "scrolled": false
   },
   "outputs": [
    {
     "name": "stdout",
     "output_type": "stream",
     "text": [
      "Define reference ranks and location of extremes\n"
     ]
    }
   ],
   "source": [
    "print(\"Define reference ranks and location of extremes\")\n",
    "\n",
    "Q_IL = ranks\n",
    "Qmax = 99.99\n",
    "iQmax = indexOfRank(Qmax,Q_IL)\n",
    "ranks_ref = Q_IL[:iQmax]\n",
    "Qmin = 0\n",
    "iQmin = indexOfRank(Qmin,Q_IL)\n",
    "targetranks = Q_IL[iQmin:iQmax]\n",
    "\n",
    "Qref = 99.9\n",
    "iQref = indexOfRank(Qref,Q_IL)\n",
    "\n",
    "sQ999_9999 = slice(iQref,iQmax)"
   ]
  },
  {
   "cell_type": "code",
   "execution_count": 14,
   "metadata": {
    "ExecuteTime": {
     "end_time": "2019-04-01T19:20:29.366594Z",
     "start_time": "2019-04-01T19:20:08.026181Z"
    }
   },
   "outputs": [
    {
     "name": "stdout",
     "output_type": "stream",
     "text": [
      "Find location of extremes shifted by an hour\n",
      "20.5672 36.9043 49.8813 60.1893 68.3772 74.8811 80.0474 84.1511 87.4107 90.0000 92.0567 93.6904 94.9881 96.0189 96.8377 97.4881 98.0047 98.4151 98.7411 99.0000 99.2057 99.3690 99.4988 99.6019 99.6838 99.7488 99.8005 99.8415 99.8741 99.9000 99.9206 99.9369 99.9499 99.9602 99.9684 99.9749 99.9800 99.9842 99.9874 \n"
     ]
    }
   ],
   "source": [
    "print(\"Find location of extremes shifted by an hour\")\n",
    "\n",
    "rank_locations_m1h= {}\n",
    "rank_locations_m2h= {}\n",
    "rank_locations_m4h= {}\n",
    "for rank in ranks_ref:\n",
    "    rank_id  = \"%2.4f\"%rank\n",
    "    print(rank_id,end=' ')\n",
    "    rank_locations_m1h[rank_id] = np.array(getRankLocations(rank,pr.data,ranks,bins_ILQ_pr,rank_locations_m1h,time_shift=-1))\n",
    "#     rank_locations_m2h[rank_id] = np.array(getRankLocations(rank,pr.data,ranks,bins_ILQ_pr,rank_locations_m2h,time_shift=-2))\n",
    "#     rank_locations_m4h[rank_id] = np.array(getRankLocations(rank,pr.data,ranks,bins_ILQ_pr,rank_locations_m4h,time_shift=-4))\n",
    "print()"
   ]
  },
  {
   "cell_type": "markdown",
   "metadata": {},
   "source": [
    "# Implement scaling"
   ]
  },
  {
   "cell_type": "markdown",
   "metadata": {},
   "source": [
    "## single-level"
   ]
  },
  {
   "cell_type": "code",
   "execution_count": 15,
   "metadata": {
    "ExecuteTime": {
     "end_time": "2019-04-01T19:20:29.464215Z",
     "start_time": "2019-04-01T19:20:29.371627Z"
    }
   },
   "outputs": [],
   "source": [
    "doSingleLevel = False"
   ]
  },
  {
   "cell_type": "code",
   "execution_count": 16,
   "metadata": {
    "ExecuteTime": {
     "end_time": "2019-04-01T19:20:29.532100Z",
     "start_time": "2019-04-01T19:20:29.466695Z"
    }
   },
   "outputs": [],
   "source": [
    "# w_prQ_m1h = meanXProfileAtAllYRanks(targetranks,ds_3D.W.data.compute(),pr.data.compute(),ranks,bins,rank_locations_m1h)\n",
    "# temp_prQ_m1h = meanXProfileAtAllYRanks(targetranks,ds_3D.TABS.data.compute(),pr.data.compute(),ranks,bins,rank_locations_m1h)"
   ]
  },
  {
   "cell_type": "code",
   "execution_count": 17,
   "metadata": {
    "ExecuteTime": {
     "end_time": "2019-04-01T19:20:29.577835Z",
     "start_time": "2019-04-01T19:20:29.534397Z"
    }
   },
   "outputs": [],
   "source": [
    "if doSingleLevel:\n",
    "\n",
    "    print('Compute maximum w in the vertical, T in the boundary layer, and use them for a single-level scaling')\n",
    "    wmax = np.array(np.max(ds_3D.W.data,axis=1))\n",
    "    i925 = np.argmin(np.abs(np.mean(ds_3D.p,axis=0)-925)).compute()\n",
    "    temp925 = np.array(ds_3D.TABS[:,i925,...])\n",
    "    qvstar925 = saturationSpecificHumidity(temp925,92500)\n",
    "    # qv925 = np.array(ds_3D.QV[:,i925,...])"
   ]
  },
  {
   "cell_type": "code",
   "execution_count": 18,
   "metadata": {
    "ExecuteTime": {
     "end_time": "2019-04-01T19:20:29.622691Z",
     "start_time": "2019-04-01T19:20:29.580005Z"
    }
   },
   "outputs": [],
   "source": [
    "if doSingleLevel:\n",
    "\n",
    "    print(\"percentile-conditioned predictors\")\n",
    "    wmax_prQ = meanXAtAllYRanks(targetranks,wmax,pr,ranks_ref,bins=bins_ILQ_pr,rank_locations=rank_locations_m1h)\n",
    "    qvstar925_prQ = meanXAtAllYRanks(targetranks,qvstar925,pr,ranks_ref,bins=bins_ILQ_pr,rank_locations=rank_locations_m1h)\n",
    "    # qv925_prQ = meanXAtAllYRanks(targetranks,qv925,pr,ranks_ref,bins=bins_ILQ_pr,rank_locations=rank_locations_m1h)"
   ]
  },
  {
   "cell_type": "code",
   "execution_count": 19,
   "metadata": {
    "ExecuteTime": {
     "end_time": "2019-04-01T19:20:29.666654Z",
     "start_time": "2019-04-01T19:20:29.624762Z"
    }
   },
   "outputs": [],
   "source": [
    "if doSingleLevel:\n",
    "    epsSL = perc_ILQ_pr[iQref]/86400/(wmax_prQ[iQref]*qvstar925_prQ[iQref])\n",
    "    # epsSL_qv = perc_ILQ_pr[iQref]/86400/(wmax_prQ[iQref]*qv925_prQ[iQref])"
   ]
  },
  {
   "cell_type": "code",
   "execution_count": 20,
   "metadata": {
    "ExecuteTime": {
     "end_time": "2019-04-01T19:20:29.710674Z",
     "start_time": "2019-04-01T19:20:29.668684Z"
    }
   },
   "outputs": [],
   "source": [
    "if doSingleLevel:\n",
    "    print(perc_ILQ_pr[iQref],(epsSL*wmax_prQ*qvstar925_prQ)[iQref]*86400)"
   ]
  },
  {
   "cell_type": "code",
   "execution_count": 21,
   "metadata": {
    "ExecuteTime": {
     "end_time": "2019-04-01T19:20:29.756263Z",
     "start_time": "2019-04-01T19:20:29.712933Z"
    }
   },
   "outputs": [],
   "source": [
    "if doSingleLevel:\n",
    "\n",
    "    fig,ax = plt.subplots(figsize=(5,5))\n",
    "    subplotRanksILog(ax,ranks_ref,perc_ILQ_pr[:iQmax],col='k',labels='P')\n",
    "    subplotRanksILog(ax,ranks_ref,epsSL*wmax_prQ*qvstar925_prQ*86400,col='k',ltype=':',\n",
    "                     labels='scaling',transformX=True)\n",
    "    ax.set_xlabel(\"Percentile rank (%)\")\n",
    "    ax.set_ylabel(\"Rainfall intensity (%)\")\n",
    "    ax.legend(fontsize=12)\n",
    "    plt.savefig(os.path.join(figsubdir_contributions,'pdf_rain_and_SL_scaling_wmax.pdf'),bbox_layout='tight')\n",
    "    plt.show()"
   ]
  },
  {
   "cell_type": "code",
   "execution_count": 22,
   "metadata": {
    "ExecuteTime": {
     "end_time": "2019-04-01T19:20:29.800651Z",
     "start_time": "2019-04-01T19:20:29.758396Z"
    }
   },
   "outputs": [],
   "source": [
    "if doSingleLevel:\n",
    "\n",
    "    print(\"save\")\n",
    "    save2object(wmax_prQ,os.path.join(figsubdir_contributions,\"wmax_SLscaling_prQ.pickle\"))\n",
    "    save2object(qvstar925_prQ,os.path.join(figsubdir_contributions,\"qvstar925_SLscaling_prQ.pickle\"))"
   ]
  },
  {
   "cell_type": "markdown",
   "metadata": {},
   "source": [
    "## Full scaling"
   ]
  },
  {
   "cell_type": "code",
   "execution_count": 23,
   "metadata": {
    "ExecuteTime": {
     "end_time": "2019-04-01T19:20:29.844358Z",
     "start_time": "2019-04-01T19:20:29.802570Z"
    }
   },
   "outputs": [],
   "source": [
    "doFullScaling = True"
   ]
  },
  {
   "cell_type": "code",
   "execution_count": 24,
   "metadata": {
    "ExecuteTime": {
     "end_time": "2019-04-01T19:22:35.833710Z",
     "start_time": "2019-04-01T19:20:29.846351Z"
    }
   },
   "outputs": [
    {
     "data": {
      "text/plain": [
       "(480, 64, 256, 256)"
      ]
     },
     "execution_count": 24,
     "metadata": {},
     "output_type": "execute_result"
    }
   ],
   "source": [
    "np.array(ds_3D.W).shape"
   ]
  },
  {
   "cell_type": "code",
   "execution_count": 25,
   "metadata": {
    "ExecuteTime": {
     "end_time": "2019-04-01T19:22:35.892683Z",
     "start_time": "2019-04-01T19:22:35.836284Z"
    }
   },
   "outputs": [
    {
     "data": {
      "text/plain": [
       "(480, 256, 256)"
      ]
     },
     "execution_count": 25,
     "metadata": {},
     "output_type": "execute_result"
    }
   ],
   "source": [
    "pr.shape"
   ]
  },
  {
   "cell_type": "code",
   "execution_count": 26,
   "metadata": {
    "ExecuteTime": {
     "end_time": "2019-04-01T19:53:14.612945Z",
     "start_time": "2019-04-01T19:22:35.894697Z"
    },
    "scrolled": false
   },
   "outputs": [
    {
     "name": "stdout",
     "output_type": "stream",
     "text": [
      "percentile-conditioned predictor profiles\n"
     ]
    }
   ],
   "source": [
    "if doFullScaling:\n",
    "    print(\"percentile-conditioned predictor profiles\")\n",
    "    w = np.array(ds_3D.W)\n",
    "    w_prQ = meanXProfileAtAllYRanks(targetranks,w,pr,ranks_ref,bins=bins_ILQ_pr,rank_locations=rank_locations_m1h)\n",
    "    del locals()['w']\n",
    "    tabs = np.array(ds_3D.TABS)\n",
    "    tabs_prQ = meanXProfileAtAllYRanks(targetranks,tabs,pr,ranks_ref,bins=bins_ILQ_pr,rank_locations=rank_locations_m1h)\n",
    "    del locals()['tabs']\n",
    "    qv = np.array(ds_3D.QV)\n",
    "    qv_prQ = meanXProfileAtAllYRanks(targetranks,qv,pr,ranks_ref,bins=bins_ILQ_pr,rank_locations=rank_locations_m1h)\n",
    "#     qv_m2h_prQ = meanXProfileAtAllYRanks(targetranks,qv,pr,ranks_ref,bins=bins_ILQ_pr,rank_locations=rank_locations_m2h)\n",
    "#     qv_m4h_prQ = meanXProfileAtAllYRanks(targetranks,qv,pr,ranks_ref,bins=bins_ILQ_pr,rank_locations=rank_locations_m4h)\n",
    "    del locals()['qv']"
   ]
  },
  {
   "cell_type": "code",
   "execution_count": 27,
   "metadata": {
    "ExecuteTime": {
     "end_time": "2019-04-01T19:54:34.908015Z",
     "start_time": "2019-04-01T19:53:14.615474Z"
    }
   },
   "outputs": [],
   "source": [
    "if doFullScaling:\n",
    "\n",
    "    prFT_prQ = np.nan*np.zeros(ranks_ref.shape)\n",
    "\n",
    "    p_profile = np.array(np.mean(ds_3D.p,axis=0))\n",
    "\n",
    "    for rank in targetranks:\n",
    "\n",
    "        irank_ref = indexOfRank(rank,ranks_ref)\n",
    "        irank_target = indexOfRank(rank,targetranks)\n",
    "\n",
    "        w_prof = w_prQ[irank_target]\n",
    "        tabs_prof = tabs_prQ[irank_target]\n",
    "\n",
    "        prFT_prQ[irank_ref] = scalingOGS09_zcoord(w_prof,tabs_prof,p_profile,levdim=0)"
   ]
  },
  {
   "cell_type": "code",
   "execution_count": 28,
   "metadata": {
    "ExecuteTime": {
     "end_time": "2019-04-01T19:54:35.217213Z",
     "start_time": "2019-04-01T19:54:34.911004Z"
    }
   },
   "outputs": [
    {
     "name": "stdout",
     "output_type": "stream",
     "text": [
      "0.0551067658721\n"
     ]
    }
   ],
   "source": [
    "if doFullScaling:\n",
    "\n",
    "    def computePE(perc_ILQ_pr,pr_sc):\n",
    "\n",
    "        x = pr_sc[sQ999_9999]\n",
    "        y = perc_ILQ_pr[sQ999_9999]/86400\n",
    "        f = lambda x,alpha: alpha*x\n",
    "\n",
    "        return curve_fit(f,x,y,p0=1)\n",
    "\n",
    "    eps_FT, ecov_FT = computePE(perc_ILQ_pr,prFT_prQ)\n",
    "\n",
    "    epsFT = eps_FT[0]\n",
    "    print(epsFT)"
   ]
  },
  {
   "cell_type": "code",
   "execution_count": 29,
   "metadata": {
    "ExecuteTime": {
     "end_time": "2019-04-01T19:54:36.591995Z",
     "start_time": "2019-04-01T19:54:35.219074Z"
    }
   },
   "outputs": [
    {
     "data": {
      "image/png": "[encoded data removed]",
      "text/plain": [
       "<Figure size 360x360 with 1 Axes>"
      ]
     },
     "metadata": {},
     "output_type": "display_data"
    }
   ],
   "source": [
    "if doFullScaling:\n",
    "    \n",
    "    fig,ax = plt.subplots(figsize=(5,5))\n",
    "    subplotRanksILog(ax,ranks_ref,perc_ILQ_pr[:iQmax],col='k',labels='P')\n",
    "    subplotRanksILog(ax,ranks_ref,epsFT*prFT_prQ*86400,col='k',ltype=':',labels='scaling',transformX=True)\n",
    "    ax.set_xlabel(\"Percentile rank (%)\")\n",
    "    ax.set_ylabel(\"Rainfall intensity (%)\")\n",
    "    ax.legend(fontsize=12)\n",
    "    plt.savefig(os.path.join(figsubdir_contributions,'pdf_rain_and_FT_scaling.pdf'),bbox_layout='tight')\n",
    "    plt.show()"
   ]
  },
  {
   "cell_type": "code",
   "execution_count": 30,
   "metadata": {
    "ExecuteTime": {
     "end_time": "2019-04-01T19:54:36.648105Z",
     "start_time": "2019-04-01T19:54:36.593752Z"
    }
   },
   "outputs": [
    {
     "name": "stdout",
     "output_type": "stream",
     "text": [
      "save\n"
     ]
    }
   ],
   "source": [
    "if doFullScaling:\n",
    "    print(\"save\")\n",
    "    save2object(w_prQ,os.path.join(ressubdir_contributions,\"w_prof_FTscaling_prQ.pickle\"))\n",
    "    save2object(tabs_prQ,os.path.join(ressubdir_contributions,\"tabs_prof_FTscaling_prQ.pickle\"))\n",
    "    save2object(qv_prQ,os.path.join(ressubdir_contributions,\"qv_prof_FTscaling_prQ.pickle\"))\n",
    "    save2object(p_profile,os.path.join(ressubdir_contributions,\"p_prof_FTscaling.pickle\"))\n",
    "    save2object(epsFT,os.path.join(ressubdir_contributions,\"alpha_FTscaling.pickle\"))"
   ]
  },
  {
   "cell_type": "markdown",
   "metadata": {},
   "source": [
    "## With entrainment, such as Loriaux (2013)"
   ]
  },
  {
   "cell_type": "code",
   "execution_count": 31,
   "metadata": {
    "ExecuteTime": {
     "end_time": "2019-04-01T19:54:37.513007Z",
     "start_time": "2019-04-01T19:54:36.650394Z"
    }
   },
   "outputs": [],
   "source": [
    "if doFullScaling:\n",
    "\n",
    "    prFTE_prQ = np.nan*np.zeros(ranks_ref.shape)\n",
    "    prFTE_qvm2h_prQ = np.nan*np.zeros(ranks_ref.shape)\n",
    "    \n",
    "    p_profile = np.array(np.mean(ds_3D.p,axis=0))\n",
    "\n",
    "    for rank in targetranks:\n",
    "\n",
    "        irank_ref = indexOfRank(rank,ranks_ref)\n",
    "        irank_target = indexOfRank(rank,targetranks)\n",
    "\n",
    "        w_prof = w_prQ[irank_target]\n",
    "        tabs_prof = tabs_prQ[irank_target]\n",
    "        qv_prof = qv_prQ[irank_target]\n",
    "#         qv_m2h_prof = qv_m2h_prQ[irank_target]\n",
    "\n",
    "        prFTE_prQ[irank_ref] = scalingL13_zcoord(w_prof,tabs_prof,p_profile,qv_prof,levdim=0)\n",
    "#         prFTE_qvm2h_prQ[irank_ref] = scalingL13_zcoord(w_prof,tabs_prof,p_profile,qv_m2h_prof,levdim=0)\n",
    "#         prFTE_qvm4h_prQ[irank_ref] = scalingL13_zcoord(w_prof,tabs_prof,p_profile,qv_m4h_prof,levdim=0)"
   ]
  },
  {
   "cell_type": "markdown",
   "metadata": {},
   "source": [
    "### Tune for entrainment alone"
   ]
  },
  {
   "cell_type": "code",
   "execution_count": 32,
   "metadata": {
    "ExecuteTime": {
     "end_time": "2019-04-01T19:54:37.571444Z",
     "start_time": "2019-04-01T19:54:37.515804Z"
    }
   },
   "outputs": [
    {
     "name": "stdout",
     "output_type": "stream",
     "text": [
      "[ 0.00033626]\n"
     ]
    }
   ],
   "source": [
    "def computeEntrainment(perc_ILQ_pr,prFT_prQ,prFTE_prQ):\n",
    "    \n",
    "    x = np.vstack([prFT_prQ[sQ999_9999],prFTE_prQ[sQ999_9999]])\n",
    "    y = perc_ILQ_pr[sQ999_9999]/86400\n",
    "    f = lambda x,e: x[0]+e*x[1]\n",
    "    \n",
    "    return curve_fit(f,x,y,p0=1e-4)\n",
    "\n",
    "if doFullScaling:\n",
    "    e_FTE, ecov_FTE = computeEntrainment(perc_ILQ_pr,prFT_prQ,prFTE_prQ)\n",
    "#     e_FTE_qvm2h, ecov_FTE_qvm2h = computeEntrainment(perc_ILQ_pr,prFT_prQ,prFTE_qvm2h_prQ)\n",
    "    print(e_FTE)\n",
    "#     print(e_FTE_qvm2h)"
   ]
  },
  {
   "cell_type": "code",
   "execution_count": 33,
   "metadata": {
    "ExecuteTime": {
     "end_time": "2019-04-01T19:54:37.618737Z",
     "start_time": "2019-04-01T19:54:37.573514Z"
    }
   },
   "outputs": [],
   "source": [
    "# Define scaling with entrainment\n",
    "if doFullScaling:\n",
    "    pr_scFTent = (prFT_prQ + e_FTE*prFTE_prQ)*86400\n",
    "#     pr_scFTent_qvm2h = (prFT_prQ + e_FTE_qvm2h*prFTE_qvm2h_prQ)*86400"
   ]
  },
  {
   "cell_type": "code",
   "execution_count": 34,
   "metadata": {
    "ExecuteTime": {
     "end_time": "2019-04-01T19:54:38.193029Z",
     "start_time": "2019-04-01T19:54:37.620823Z"
    }
   },
   "outputs": [
    {
     "data": {
      "image/png": "[encoded data removed]",
      "text/plain": [
       "<Figure size 360x360 with 1 Axes>"
      ]
     },
     "metadata": {},
     "output_type": "display_data"
    }
   ],
   "source": [
    "if doFullScaling:\n",
    "    \n",
    "    fig,ax = plt.subplots(figsize=(5,5))\n",
    "    subplotRanksILog(ax,ranks_ref,perc_ILQ_pr[:iQmax],col='k',labels='P')\n",
    "    subplotRanksILog(ax,ranks_ref,pr_scFTent,col='k',ltype=':',labels='scaling \\nw/ entrainment',transformX=True)\n",
    "    ax.set_xlabel(\"Percentile rank (%)\")\n",
    "    ax.set_ylabel(\"Rainfall intensity (%)\")\n",
    "    ax.legend(fontsize=12)\n",
    "    plt.savefig(os.path.join(figsubdir_contributions,'pdf_rain_and_FTE_scaling.pdf'),bbox_layout='tight')\n",
    "    plt.show()"
   ]
  },
  {
   "cell_type": "code",
   "execution_count": 35,
   "metadata": {
    "ExecuteTime": {
     "end_time": "2019-04-01T19:54:38.737775Z",
     "start_time": "2019-04-01T19:54:38.194984Z"
    }
   },
   "outputs": [
    {
     "data": {
      "image/png": "[encoded data removed]",
      "text/plain": [
       "<Figure size 360x360 with 1 Axes>"
      ]
     },
     "metadata": {},
     "output_type": "display_data"
    }
   ],
   "source": [
    "if doFullScaling:\n",
    "    \n",
    "    fig,ax = plt.subplots(figsize=(5,5))\n",
    "    subplotRanksILog(ax,ranks_ref,perc_ILQ_pr[:iQmax],col='k',labels='P',transformX=True)\n",
    "#     subplotRanksILog(ax,ranks_ref,pr_scFTent_qvm2h,col='k',ltype=':',labels='scaling \\nw/ entrainment',transformX=True)\n",
    "    ax.set_xlabel(\"Percentile rank (%)\")\n",
    "    ax.set_ylabel(\"Rainfall intensity (%)\")\n",
    "    ax.legend(fontsize=12)\n",
    "    plt.savefig(os.path.join(figsubdir_contributions,'pdf_rain_and_FTE_qvm2h_scaling.pdf'),bbox_layout='tight')\n",
    "    plt.show()"
   ]
  },
  {
   "cell_type": "markdown",
   "metadata": {},
   "source": [
    "### Tune for entrainment and precipitation efficiency"
   ]
  },
  {
   "cell_type": "code",
   "execution_count": 36,
   "metadata": {
    "ExecuteTime": {
     "end_time": "2019-04-01T19:54:38.820521Z",
     "start_time": "2019-04-01T19:54:38.739459Z"
    }
   },
   "outputs": [],
   "source": [
    "def computeEntrainmentAndPE(perc_ILQ_pr,prFT_prQ,prFTE_prQ):\n",
    "    \n",
    "    x = np.vstack([prFT_prQ[sQ999_9999],prFTE_prQ[sQ999_9999]])\n",
    "    y = perc_ILQ_pr[sQ999_9999]/86400\n",
    "    f = lambda x,alpha,e: alpha*(x[0]+e*x[1])\n",
    "\n",
    "    return curve_fit(f,x,y,p0=(1,1e-4))\n",
    "\n",
    "if doFullScaling:\n",
    "    (alpha_FTEE,e_FTEE), ecov_FTEE = computeEntrainmentAndPE(perc_ILQ_pr,prFT_prQ,prFTE_prQ)\n",
    "#     (alpha_FTEE_qvm2h,e_FTEE_qvm2h), ecov_FTEE_qvm2h = computeEntrainmentAndPE(perc_ILQ_pr,prFT_prQ,prFTE_qvm2h_prQ)"
   ]
  },
  {
   "cell_type": "code",
   "execution_count": 37,
   "metadata": {
    "ExecuteTime": {
     "end_time": "2019-04-01T19:54:38.870876Z",
     "start_time": "2019-04-01T19:54:38.822191Z"
    }
   },
   "outputs": [
    {
     "name": "stdout",
     "output_type": "stream",
     "text": [
      "0.0891369284309 0.000136079536852\n"
     ]
    }
   ],
   "source": [
    "# Define scaling with entrainment and precipitation efficiency\n",
    "if doFullScaling:\n",
    "    pr_scFTEE = alpha_FTEE*(prFT_prQ + e_FTEE*prFTE_prQ)*86400\n",
    "#     pr_scFTEE_qvm2h = alpha_FTEE_qvm2h*(prFT_prQ + e_FTEE_qvm2h*prFTE_qvm2h_prQ)*86400\n",
    "    print(alpha_FTEE, e_FTEE)\n",
    "#     print(alpha_FTEE_qvm2h, e_FTEE_qvm2h)"
   ]
  },
  {
   "cell_type": "code",
   "execution_count": 38,
   "metadata": {
    "ExecuteTime": {
     "end_time": "2019-04-01T19:54:39.425687Z",
     "start_time": "2019-04-01T19:54:38.872747Z"
    }
   },
   "outputs": [
    {
     "data": {
      "image/png": "[encoded data removed]",
      "text/plain": [
       "<Figure size 360x360 with 1 Axes>"
      ]
     },
     "metadata": {},
     "output_type": "display_data"
    }
   ],
   "source": [
    "if doFullScaling:\n",
    "    \n",
    "    fig,ax = plt.subplots(figsize=(5,5))\n",
    "    subplotRanksILog(ax,ranks_ref,perc_ILQ_pr[:iQmax],col='k',labels='P')\n",
    "    subplotRanksILog(ax,ranks_ref,pr_scFTEE,col='k',ltype=':',labels='scaling w/ PE\\n& entrainment',transformX=True)\n",
    "    ax.set_xlabel(\"Percentile rank (%)\")\n",
    "    ax.set_ylabel(\"Rainfall intensity (%)\")\n",
    "    ax.legend(fontsize=12)\n",
    "    plt.savefig(os.path.join(figsubdir_contributions,'pdf_rain_and_FTEalpha_scaling.pdf'),bbox_layout='tight')\n",
    "    plt.show()"
   ]
  },
  {
   "cell_type": "code",
   "execution_count": 39,
   "metadata": {
    "ExecuteTime": {
     "end_time": "2019-04-01T19:54:40.329142Z",
     "start_time": "2019-04-01T19:54:39.427674Z"
    }
   },
   "outputs": [
    {
     "data": {
      "image/png": "[encoded data removed]",
      "text/plain": [
       "<Figure size 360x360 with 1 Axes>"
      ]
     },
     "metadata": {},
     "output_type": "display_data"
    }
   ],
   "source": [
    "if doFullScaling:\n",
    "    \n",
    "    fig,ax = plt.subplots(figsize=(5,5))\n",
    "    subplotRanksILog(ax,ranks_ref,perc_ILQ_pr[:iQmax],col='k',labels='P')\n",
    "#     subplotRanksILog(ax,ranks_ref,pr_scFTEE_qvm2h,col='k',ltype=':',labels='scaling w/ PE\\n& entrainment',transformX=True)\n",
    "    ax.set_xlabel(\"Percentile rank (%)\")\n",
    "    ax.set_ylabel(\"Rainfall intensity (%)\")\n",
    "    ax.legend(fontsize=12)\n",
    "    plt.savefig(os.path.join(figsubdir_contributions,'pdf_rain_and_FTEalpha_qvm2h_scaling.pdf'),bbox_layout='tight')\n",
    "    plt.show()"
   ]
  },
  {
   "cell_type": "code",
   "execution_count": 40,
   "metadata": {
    "ExecuteTime": {
     "end_time": "2019-04-01T19:54:40.385653Z",
     "start_time": "2019-04-01T19:54:40.331311Z"
    }
   },
   "outputs": [],
   "source": [
    "if doFullScaling:\n",
    "    save2object(epsFT,os.path.join(ressubdir_contributions,\"alpha_FTscaling.pickle\"))\n",
    "    save2object(e_FTE,os.path.join(ressubdir_contributions,\"e_FTEscaling.pickle\"))\n",
    "    save2object(e_FTEE,os.path.join(ressubdir_contributions,\"e_FTEEscaling.pickle\"))\n",
    "    save2object(alpha_FTEE,os.path.join(ressubdir_contributions,\"alpha_FTEEscaling.pickle\"))\n",
    "#     save2object(e_FTEE_qvm2h,os.path.join(ressubdir_contributions,\"e_FTEE_qvm2h_scaling.pickle\"))\n",
    "#     save2object(alpha_FTEE_qvm2h,os.path.join(ressubdir_contributions,\"alpha_FTEE_qvm2h_scaling.pickle\"))\n"
   ]
  },
  {
   "cell_type": "code",
   "execution_count": null,
   "metadata": {},
   "outputs": [],
   "source": []
  }
 ],
 "metadata": {
  "hide_input": false,
  "kernelspec": {
   "display_name": "Python 3",
   "language": "python",
   "name": "python3"
  },
  "language_info": {
   "codemirror_mode": {
    "name": "ipython",
    "version": 3
   },
   "file_extension": ".py",
   "mimetype": "text/x-python",
   "name": "python",
   "nbconvert_exporter": "python",
   "pygments_lexer": "ipython3",
   "version": "3.7.6"
  },
  "latex_envs": {
   "LaTeX_envs_menu_present": true,
   "autoclose": false,
   "autocomplete": true,
   "bibliofile": "biblio.bib",
   "cite_by": "apalike",
   "current_citInitial": 1,
   "eqLabelWithNumbers": true,
   "eqNumInitial": 1,
   "hotkeys": {
    "equation": "Ctrl-E",
    "itemize": "Ctrl-I"
   },
   "labels_anchors": false,
   "latex_user_defs": false,
   "report_style_numbering": false,
   "user_envs_cfg": false
  },
  "toc": {
   "base_numbering": 1,
   "nav_menu": {},
   "number_sections": true,
   "sideBar": true,
   "skip_h1_title": false,
   "title_cell": "Table of Contents",
   "title_sidebar": "Contents",
   "toc_cell": false,
   "toc_position": {},
   "toc_section_display": true,
   "toc_window_display": false
  },
  "varInspector": {
   "cols": {
    "lenName": 16,
    "lenType": 16,
    "lenVar": 40
   },
   "kernels_config": {
    "python": {
     "delete_cmd_postfix": "",
     "delete_cmd_prefix": "del ",
     "library": "var_list.py",
     "varRefreshCmd": "print(var_dic_list())"
    },
    "r": {
     "delete_cmd_postfix": ") ",
     "delete_cmd_prefix": "rm(",
     "library": "var_list.r",
     "varRefreshCmd": "cat(var_dic_list()) "
    }
   },
   "types_to_exclude": [
    "module",
    "function",
    "builtin_function_or_method",
    "instance",
    "_Feature"
   ],
   "window_display": false
  }
 },
 "nbformat": 4,
 "nbformat_minor": 2
}
