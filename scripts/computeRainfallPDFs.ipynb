{
 "cells": [
  {
   "cell_type": "code",
   "execution_count": 5,
   "metadata": {
    "ExecuteTime": {
     "end_time": "2019-04-01T06:58:21.047732Z",
     "start_time": "2019-04-01T06:58:17.393479Z"
    }
   },
   "outputs": [],
   "source": [
    "%load_ext autoreload\n",
    "%matplotlib inline"
   ]
  },
  {
   "cell_type": "code",
   "execution_count": 6,
   "metadata": {
    "ExecuteTime": {
     "end_time": "2019-04-01T04:14:28.340158Z",
     "start_time": "2019-04-01T04:14:27.243758Z"
    }
   },
   "outputs": [
    {
     "name": "stdout",
     "output_type": "stream",
     "text": [
      "repo: /global/cscratch1/sd/bfildier/dataAnalysis/Fildier2020\n",
      "Own modules available: ['thermoConstants', 'setEnv', 'thermoFunctions', 'importingData', 'statisticalDistributions', 'plot1DInvLog', 'conditionalstats', 'dataFormat', 'savingResults', 'thermoConstantsForMoistAdiabat', 'scalingApproximations', 'slicingAndSubsetting', 'thermoFunctionsForMoistAdiabat', 'plot2D']\n"
     ]
    }
   ],
   "source": [
    "%autoreload 2\n",
    "\n",
    "import numpy as np\n",
    "import sys,os,glob\n",
    "import matplotlib\n",
    "# matplotlib.use(\"PDF\")\n",
    "import matplotlib.pyplot as plt\n",
    "# from mpl_toolkits.basemap import Basemap\n",
    "import matplotlib.colors as colors\n",
    "import matplotlib.cm as cmx\n",
    "import xarray as xr\n",
    "\n",
    "## Add own library to path\n",
    "workdir = os.getcwd()\n",
    "repodir = workdir\n",
    "while os.path.basename(repodir) != 'Fildier2020':\n",
    "    repodir = os.path.dirname(repodir)\n",
    "print('repo:',repodir)\n",
    "thismodule = sys.modules[__name__]\n",
    "moduledir = os.path.join(repodir,'functions')\n",
    "sys.path.insert(0,moduledir)\n",
    "print(\"Own modules available:\", [os.path.splitext(os.path.basename(x))[0]\n",
    "                                 for x in glob.glob(os.path.join(moduledir,'*.py'))])\n",
    "\n",
    "## Load own libraries\n",
    "from thermoConstants import *\n",
    "from statisticalDistributions import *\n",
    "# from plot1DInvLog import *\n",
    "from importingData import *\n",
    "from savingResults import *\n",
    "\n",
    "## Graphical parameters\n",
    "plt.style.use(os.path.join(matplotlib.get_configdir(),'stylelib/presentation.mplstyle'))"
   ]
  },
  {
   "cell_type": "code",
   "execution_count": 7,
   "metadata": {
    "ExecuteTime": {
     "end_time": "2019-04-01T04:46:04.760131Z",
     "start_time": "2019-04-01T04:46:04.700196Z"
    }
   },
   "outputs": [
    {
     "name": "stdout",
     "output_type": "stream",
     "text": [
      "Simulation name: RCE_MPDATAxTKExCAMxSAM1MOM_4000x4000x15_256x256x64_TKE-SST302-radhomo-r2-b100-radagg\n"
     ]
    }
   ],
   "source": [
    "fromsimname=True\n",
    "\n",
    "if fromsimname: # Extract simulation attributes from simname\n",
    "    \n",
    "    simname = \"RCE_MPDATAxTKExCAMxSAM1MOM_4000x4000x15_256x256x64_TKE-SST302-radhomo-r2-b100-radagg\"\n",
    "    print(\"Simulation name:\",simname)\n",
    "    chunks = simname.split('_')\n",
    "    case = chunks[0]\n",
    "    Nxyz = chunks[3]\n",
    "    Nx,Ny,Nz = np.array(Nxyz.split('x'),dtype=int)\n",
    "    Nproc = np.max(np.array(Nxyz.split('x'),dtype=int))\n",
    "    simroot = '_'.join(chunks[:4])\n",
    "    expname = chunks[4]\n",
    "    expchunks = expname.split('-')\n",
    "    SST = int([expchunk[-3:] for expchunk in expchunks if re.match(\"SST*\",expchunk)][0])\n",
    "\n",
    "else: # Define simname from simulation attributes\n",
    "\n",
    "    case = 'RCE'\n",
    "    Nxyz = '256x256x64'\n",
    "    Nx,Ny,Nz = np.array(Nxyz.split('x'),dtype=int)\n",
    "    Nproc = np.max(np.array(Nxyz.split('x'),dtype=int))\n",
    "    simroot = \"RCE_MPDATAxTKExCAMxSAM1MOM_4000x4000x15_%s\"%Nxyz\n",
    "    # Experiment name\n",
    "    SST = 304\n",
    "#     expname = \"TKE-SST%d-r1\"%SST\n",
    "#     expname = \"TKE-SST%d-radhomo-r1\"%SST\n",
    "#     expname = \"TKE-SST%d-r1-b150-sfcagg\"%SST\n",
    "    expname = \"TKE-SST%d-radhomo-r1-b100-radagg\"%SST\n",
    "#     expname = \"TKE-SST%d-r1-b150-tkzfd4\"%SST\n",
    "    # Simulation full name\n",
    "    simname = \"%s_%s\"%(simroot,expname)\n",
    "    print(\"Simulation name:\",simname)"
   ]
  },
  {
   "cell_type": "code",
   "execution_count": 8,
   "metadata": {
    "ExecuteTime": {
     "end_time": "2019-04-01T04:46:04.819488Z",
     "start_time": "2019-04-01T04:46:04.762696Z"
    }
   },
   "outputs": [],
   "source": [
    "archivedir = getArchivedir(machine='coriknl')\n",
    "resultdir = os.path.join(os.path.dirname(moduledir),'results')\n",
    "figuredir = os.path.join(os.path.dirname(moduledir),'figures')"
   ]
  },
  {
   "cell_type": "code",
   "execution_count": 9,
   "metadata": {
    "ExecuteTime": {
     "end_time": "2019-04-01T04:46:05.446190Z",
     "start_time": "2019-04-01T04:46:04.821545Z"
    }
   },
   "outputs": [],
   "source": [
    "figdir = os.path.join(figuredir,simroot,expname)\n",
    "if not os.path.exists(figdir): os.makedirs(figdir)"
   ]
  },
  {
   "cell_type": "code",
   "execution_count": 10,
   "metadata": {},
   "outputs": [],
   "source": [
    "filepattern_2D = os.path.join(archivedir,simname,\"OUT_2D\",\"%s_%s.2Dcom_*.nc\"%(simname,Nproc))\n",
    "filepattern_STAT = os.path.join(archivedir,simname,\"OUT_STAT\",\"%s.nc\"%(simname))\n",
    "varids = ['PW','Prec']\n",
    "ds_2D = xr.open_mfdataset(filepattern_2D,decode_cf=False,data_vars=varids)\n",
    "# ds_STAT = xr.open_mfdataset(filepattern_STAT,decode_cf=False,data_vars=varids)"
   ]
  },
  {
   "cell_type": "markdown",
   "metadata": {},
   "source": [
    "# Prec & PW stats"
   ]
  },
  {
   "cell_type": "code",
   "execution_count": 11,
   "metadata": {
    "ExecuteTime": {
     "end_time": "2019-04-01T04:46:05.494273Z",
     "start_time": "2019-04-01T04:46:05.448421Z"
    }
   },
   "outputs": [],
   "source": [
    "doSpatStats = False"
   ]
  },
  {
   "cell_type": "code",
   "execution_count": 12,
   "metadata": {
    "ExecuteTime": {
     "end_time": "2019-04-01T04:46:05.542680Z",
     "start_time": "2019-04-01T04:46:05.496370Z"
    }
   },
   "outputs": [],
   "source": [
    "figsubdir_spatstats= os.path.join(figdir,'xy_stats')\n",
    "if not os.path.exists(figsubdir_spatstats): os.makedirs(figsubdir_spatstats)"
   ]
  },
  {
   "cell_type": "code",
   "execution_count": 13,
   "metadata": {
    "ExecuteTime": {
     "end_time": "2019-04-01T04:46:45.550258Z",
     "start_time": "2019-04-01T04:46:44.948248Z"
    }
   },
   "outputs": [],
   "source": [
    "if doSpatStats:\n",
    "\n",
    "    print(\"Plot PW mean\")\n",
    "    # pw_mean = ds_STAT.PW\n",
    "    # pr_mean = ds_STAT.PREC\n",
    "\n",
    "    for varid in 'PW','PREC':\n",
    "\n",
    "        fig, ax = plt.subplots(ncols=1,nrows=1,figsize=(6,5))\n",
    "\n",
    "        if varid == 'PREC':\n",
    "            n = 48\n",
    "            y2plot = np.convolve(ds_STAT[varid],[1/n]*n,mode='same')\n",
    "            ax.plot(ds_STAT.time,y2plot,label='with 2-day filter')\n",
    "            ax.legend()\n",
    "        else:\n",
    "            ax.plot(ds_STAT[varid])\n",
    "        ax.set_xlabel('time (hours)')\n",
    "        ax.set_ylabel(r'%s (mm)'%varid)\n",
    "\n",
    "        plt.savefig(os.path.join(figsubdir_spatstats,'%s_over_time.pdf'%(varid)),bbox_layout='tight')\n",
    "        plt.show()"
   ]
  },
  {
   "cell_type": "code",
   "execution_count": 14,
   "metadata": {
    "ExecuteTime": {
     "end_time": "2019-04-01T04:48:21.582379Z",
     "start_time": "2019-04-01T04:46:45.552473Z"
    }
   },
   "outputs": [],
   "source": [
    "if doSpatStats:\n",
    "\n",
    "    print(\"Plot PW and Prec variance\")\n",
    "    # pw_var = ds_2D.PW.var(axis=(1,2))\n",
    "    # pr_var = ds_2D.Prec.var(axis=(1,2))\n",
    "\n",
    "    spatvar_dict = {}\n",
    "\n",
    "    for varid in 'PW','Prec':\n",
    "\n",
    "        spatvar_dict[varid] = ds_2D[varid].var(axis=(1,2))\n",
    "\n",
    "        fig, ax = plt.subplots(ncols=1,nrows=1,figsize=(6,5))\n",
    "\n",
    "        ax.plot(spatvar_dict[varid])\n",
    "        ax.set_xlabel('time (hours)')\n",
    "        ax.set_ylabel(r'var(%s) (mm$^2$)'%varid)\n",
    "\n",
    "        plt.savefig(os.path.join(figsubdir_spatstats,'var_%s_over_time.pdf'%(varid)),bbox_layout='tight')\n",
    "        plt.show()"
   ]
  },
  {
   "cell_type": "code",
   "execution_count": 15,
   "metadata": {
    "ExecuteTime": {
     "end_time": "2019-04-01T04:48:21.664282Z",
     "start_time": "2019-04-01T04:48:21.585055Z"
    }
   },
   "outputs": [
    {
     "name": "stdout",
     "output_type": "stream",
     "text": [
      "> Save spatial variance\n"
     ]
    }
   ],
   "source": [
    "print(\"> Save spatial variance\")\n",
    "\n",
    "resultsubdir = os.path.join(resultdir,simroot,expname,'xy_stats_over_time')\n",
    "if not os.path.exists(resultsubdir): os.makedirs(resultsubdir)\n",
    "\n",
    "if doSpatStats:\n",
    "    save2object(spatvar_dict,os.path.join(resultsubdir,'spatial_variances.pickle'))"
   ]
  },
  {
   "cell_type": "markdown",
   "metadata": {},
   "source": [
    "# 2D snapshots"
   ]
  },
  {
   "cell_type": "code",
   "execution_count": 16,
   "metadata": {
    "ExecuteTime": {
     "end_time": "2019-04-01T04:48:21.742672Z",
     "start_time": "2019-04-01T04:48:21.667178Z"
    }
   },
   "outputs": [],
   "source": [
    "do2DSnapshots = False"
   ]
  },
  {
   "cell_type": "code",
   "execution_count": 17,
   "metadata": {
    "ExecuteTime": {
     "end_time": "2019-04-01T04:48:21.796371Z",
     "start_time": "2019-04-01T04:48:21.746319Z"
    }
   },
   "outputs": [],
   "source": [
    "figsubdir_2D = os.path.join(figdir,'2D_snapshots')\n",
    "if not os.path.exists(figsubdir_2D): os.makedirs(figsubdir_2D)"
   ]
  },
  {
   "cell_type": "code",
   "execution_count": 18,
   "metadata": {
    "ExecuteTime": {
     "end_time": "2019-04-01T04:48:39.768286Z",
     "start_time": "2019-04-01T04:48:21.798809Z"
    }
   },
   "outputs": [],
   "source": [
    "if do2DSnapshots:\n",
    "\n",
    "    varid = 'PW'\n",
    "\n",
    "    figshape = (3,3)\n",
    "    fig = plt.figure(figsize=(6*figshape[0]-1,6*figshape[1]-1))\n",
    "\n",
    "    # Ts = [200,1000,3000,3500,4000,4500]\n",
    "#     Tmax = ds_STAT.dims['time']\n",
    "    Tmax = floor(len(ds_2D.time)/10/24)*10*24 # pick the last day of the last full decade, and convert it to #hours\n",
    "    Ts = np.arange(240,Tmax,240)\n",
    "\n",
    "    # for i in range(len(Ts)):\n",
    "    for i in range(min(9,len(Ts))):\n",
    "    #     j = len(Ts)-9+i\n",
    "        j = i\n",
    "        ax = fig.add_subplot(3,3,i+1)\n",
    "        plt.imshow(ds_2D[varid][Ts[j]],cmap=plt.cm.viridis_r,\n",
    "                   vmin=np.min(ds_2D[varid].data),vmax=np.max(ds_2D[varid].data),\n",
    "                   origin='lower')\n",
    "        plt.title('PW, t = %d days'%(Ts[j]/24))\n",
    "    #     plt.xlabel('x (km)')\n",
    "    #     plt.ylabel('y (km)')\n",
    "\n",
    "    plt.savefig(os.path.join(figsubdir_2D,'%s_over_time.pdf'%(varid)),bbox_layout='tight')\n",
    "    plt.show()"
   ]
  },
  {
   "cell_type": "code",
   "execution_count": 19,
   "metadata": {
    "ExecuteTime": {
     "end_time": "2019-04-01T04:48:46.178001Z",
     "start_time": "2019-04-01T04:48:39.770796Z"
    }
   },
   "outputs": [],
   "source": [
    "if do2DSnapshots:\n",
    "\n",
    "    varid = 'PW'\n",
    "    \n",
    "#     NT = min(ds_STAT.dims['time'],ds_2D.dims['time'])\n",
    "    NT = floor(len(ds_2D.time)/10/24)*10*24 # pick the last day of the last full decade, and convert it to #hours\n",
    "    Ts = np.arange(240,NT,240)\n",
    "\n",
    "    cmap = plt.cm.viridis_r\n",
    "    # cmap = plt.cm.gnuplot\n",
    "    # cmap = plt.cm.Spectral\n",
    "\n",
    "    for T in Ts:\n",
    "\n",
    "        fig = plt.figure(figsize=(5,5))\n",
    "        ax = fig.add_subplot(111)\n",
    "        plt.imshow(ds_2D[varid][T],cmap=cmap,\n",
    "                   vmin=np.min(ds_2D[varid][T].data),vmax=np.max(ds_2D[varid][T].data),\n",
    "                   origin='lower')\n",
    "    #     plt.title('%s, t = %d days'%(varid,T/24))\n",
    "        plt.savefig(os.path.join(figsubdir_2D,'%s_day%d.pdf'%(varid,T)),bbox_layout='tight')\n",
    "        plt.close()\n"
   ]
  },
  {
   "cell_type": "markdown",
   "metadata": {},
   "source": [
    "# Distributions PW over time"
   ]
  },
  {
   "cell_type": "code",
   "execution_count": 20,
   "metadata": {
    "ExecuteTime": {
     "end_time": "2019-04-01T04:48:46.230159Z",
     "start_time": "2019-04-01T04:48:46.180863Z"
    }
   },
   "outputs": [],
   "source": [
    "computeTimeEvolution = False"
   ]
  },
  {
   "cell_type": "code",
   "execution_count": 21,
   "metadata": {
    "ExecuteTime": {
     "end_time": "2019-04-01T04:48:46.296678Z",
     "start_time": "2019-04-01T04:48:46.232815Z"
    }
   },
   "outputs": [],
   "source": [
    "figsubdir_distrib = os.path.join(figdir,'distributions')\n",
    "if not os.path.exists(figsubdir_distrib): os.makedirs(figsubdir_distrib)"
   ]
  },
  {
   "cell_type": "code",
   "execution_count": 22,
   "metadata": {
    "ExecuteTime": {
     "end_time": "2019-04-01T04:48:46.375922Z",
     "start_time": "2019-04-01T04:48:46.299436Z"
    }
   },
   "outputs": [],
   "source": [
    "# NT = min(ds_STAT.dims['time'],ds_2D.dims['time'])\n",
    "NT = floor(len(ds_2D.time)/10/24)*10*24 # pick the last day of the last full decade, and convert it to #hours\n",
    "Ts = np.arange(240,NT,240)\n",
    "\n",
    "colorInd = range(len(Ts))\n",
    "cm = plt.get_cmap('jet') \n",
    "cNorm = colors.Normalize(vmin=0, vmax=colorInd[-1])\n",
    "scalarMap = cmx.ScalarMappable(norm=cNorm, cmap=cm)\n",
    "\n",
    "varid = 'PW'\n",
    "\n",
    "if computeTimeEvolution:\n",
    "\n",
    "    fig,ax = plt.subplots(figsize=(5,5))\n",
    "\n",
    "    perc_pw_all = {}\n",
    "    # Initialize storage\n",
    "    ranks_pw_all = {}\n",
    "    bins_pw_all = {}\n",
    "    densities_pw_all = {}\n",
    "\n",
    "    dt = 10 # ndays moving window to compute statistics\n",
    "\n",
    "\n",
    "    for i in range(len(Ts)):\n",
    "\n",
    "        T = Ts[i]\n",
    "        sT = slice(T-dt/2*24,T+dt/2*24)\n",
    "        colorVal = scalarMap.to_rgba(colorInd[i])\n",
    "\n",
    "        ranks_l_pw, perc_l_pw, bins_l_pw, densities_pw = compute1dDensities(ds_2D[varid].data[sT],mode='linear')\n",
    "        # Store results\n",
    "        ranks_pw_all[\"%d\"%T] = ranks_l_pw\n",
    "        perc_pw_all[\"%d\"%T] = perc_l_pw\n",
    "        bins_pw_all[\"%d\"%T] = bins_l_pw\n",
    "        densities_pw_all[\"%d\"%T] = densities_pw\n",
    "        # Plot\n",
    "        plt.plot(perc_l_pw,densities_pw,color=colorVal,label='t=%d days'%(T/24))\n",
    "\n",
    "    plt.xscale('log')\n",
    "    plt.xlabel(varid)\n",
    "    plt.ylabel('PDF')\n",
    "    ax.legend(fontsize=11)\n",
    "    plt.savefig(os.path.join(figsubdir_distrib,'pdf_%s_over_time.pdf'%(varid)),bbox_layout='tight')\n",
    "    plt.show()"
   ]
  },
  {
   "cell_type": "code",
   "execution_count": 23,
   "metadata": {
    "ExecuteTime": {
     "end_time": "2019-04-01T04:48:46.421028Z",
     "start_time": "2019-04-01T04:48:46.378508Z"
    }
   },
   "outputs": [
    {
     "name": "stdout",
     "output_type": "stream",
     "text": [
      "save PW pdf\n"
     ]
    }
   ],
   "source": [
    "print(\"save PW pdf\")\n",
    "\n",
    "resultsubdir = os.path.join(resultdir,simroot,expname,'xy_stats_over_time')\n",
    "if not os.path.exists(resultsubdir): os.makedirs(resultsubdir)\n",
    "\n",
    "if computeTimeEvolution:\n",
    "    save2object(ranks_pw_all,os.path.join(resultsubdir,'ranks_pw.pickle'))\n",
    "    save2object(perc_pw_all,os.path.join(resultsubdir,'percentiles_pw.pickle'))\n",
    "    save2object(bins_pw_all,os.path.join(resultsubdir,'bins_pw.pickle'))\n",
    "    save2object(densities_pw_all,os.path.join(resultsubdir,'densities_pw.pickle'))"
   ]
  },
  {
   "cell_type": "markdown",
   "metadata": {
    "ExecuteTime": {
     "end_time": "2018-11-19T22:25:44.784009Z",
     "start_time": "2018-11-19T22:25:44.716198Z"
    }
   },
   "source": [
    "# PDF/CDFs of rain"
   ]
  },
  {
   "cell_type": "markdown",
   "metadata": {},
   "source": [
    "## Percentiles and error ranges"
   ]
  },
  {
   "cell_type": "code",
   "execution_count": 24,
   "metadata": {
    "ExecuteTime": {
     "end_time": "2019-04-01T04:48:46.880708Z",
     "start_time": "2019-04-01T04:48:46.423983Z"
    }
   },
   "outputs": [],
   "source": [
    "varid = 'Prec'\n",
    "ranks_ILQ_pr, perc_ILQ_pr, bins_ILQ_pr = ranksPercentilesAndBins(ds_2D[varid].data[slice(0,240)],mode='invlogQ')\n",
    "Qmax = 99.99\n",
    "iQmax = indexOfRank(Qmax,ranks_ILQ_pr)\n",
    "iQ999 = indexOfRank(99.9,ranks_ILQ_pr)\n",
    "sQ = slice(0,iQmax+1)\n",
    "sQext = slice(iQ999,iQmax+1)"
   ]
  },
  {
   "cell_type": "code",
   "execution_count": 25,
   "metadata": {
    "ExecuteTime": {
     "end_time": "2019-04-01T04:48:46.926486Z",
     "start_time": "2019-04-01T04:48:46.883266Z"
    }
   },
   "outputs": [],
   "source": [
    "N_days = 50 # days\n",
    "# N_days = 20 # days"
   ]
  },
  {
   "cell_type": "code",
   "execution_count": 26,
   "metadata": {
    "ExecuteTime": {
     "end_time": "2019-04-01T04:48:46.978320Z",
     "start_time": "2019-04-01T04:48:46.928786Z"
    }
   },
   "outputs": [],
   "source": [
    "randomTimeSlices = False\n",
    "\n",
    "if randomTimeSlices:\n",
    "    print(\"Compute PDF of rain over the last 30 days by aggregating n time slices m times + compute error range\")\n",
    "    print()\n",
    "    print('Randomly select the time slices')\n",
    "    print()\n",
    "    varid = 'Prec'\n",
    "    m_iter = 20\n",
    "    NTmax = floor(len(ds_2D.time)/10/24)*10*24 # pick the last day of the last full decade, and convert it to #hours\n",
    "    NT_ref = N_days*24 # days\n",
    "    pr_end = ds_2D[varid].data[NTmax-NT_ref:NTmax]\n",
    "\n",
    "    n_slices = 20\n",
    "    n_slices_all = np.arange(4,26,4)\n",
    "\n",
    "    perc_mean_all_random = []\n",
    "    bins_mean_all_random = []\n",
    "    perc_std_all_random = []\n",
    "    for n_slices in n_slices_all:\n",
    "        print('# time slices = %d'%n_slices)\n",
    "\n",
    "        perc_all = []\n",
    "        bins_all = []\n",
    "        for i in range(m_iter):\n",
    "            print(i,end=' ')\n",
    "            ind = np.random.choice(NT_ref,n_slices)\n",
    "            pr = np.take(pr_end,ind,axis=0) ## line that take the most compute time\n",
    "            ranks_ILQ_pr, perc_ILQ_pr, bins_ILQ_pr = ranksPercentilesAndBins(pr,mode='invlogQ')\n",
    "            perc_all.append(perc_ILQ_pr[sQ])\n",
    "            bins_all.append(bins_ILQ_pr[sQ])\n",
    "\n",
    "        perc_mean_all_random.append(np.mean(perc_all,axis=0))\n",
    "        bins_mean_all_random.append(np.mean(bins_all,axis=0))\n",
    "        perc_std_all_random.append(np.std(perc_all,axis=0))\n",
    "\n",
    "        print()"
   ]
  },
  {
   "cell_type": "code",
   "execution_count": 27,
   "metadata": {
    "ExecuteTime": {
     "end_time": "2019-04-01T04:48:47.029036Z",
     "start_time": "2019-04-01T04:48:46.980997Z"
    }
   },
   "outputs": [],
   "source": [
    "if randomTimeSlices:\n",
    "\n",
    "    i999 = indexOfRank(99.9, ranks_ILQ_pr)\n",
    "    perc_mean_999 = np.vstack(perc_mean_all_random)[:,i999]\n",
    "    perc_std_999 = np.vstack(perc_std_all_random)[:,i999]\n",
    "\n",
    "    fig,ax = plt.subplots(ncols=1,figsize=(5,5))\n",
    "\n",
    "    ax.fill_between(x=n_slices_all,y1=perc_mean_999+perc_std_999,\n",
    "                    y2=perc_mean_999-perc_std_999,alpha=0.5,color='r',label=r'$\\sigma$')\n",
    "    ax.plot(n_slices_all,perc_mean_999,'k',label=r'$\\mathbb{E}(P^{99.9})$')\n",
    "\n",
    "    ax.set_xlabel('# of time slices picked at random')\n",
    "    ax.set_ylabel(r'99.9$^{th}$ percentile (mm/day)')\n",
    "    ax.legend(fontsize=12)\n",
    "\n",
    "    plt.savefig(os.path.join(figsubdir_distrib,'P999_err_vs_nslices_random_last50days.pdf'),bbox_layout='tight')\n",
    "    plt.show()"
   ]
  },
  {
   "cell_type": "code",
   "execution_count": null,
   "metadata": {
    "ExecuteTime": {
     "end_time": "2019-04-01T04:52:02.455301Z",
     "start_time": "2019-04-01T04:48:47.031341Z"
    }
   },
   "outputs": [
    {
     "name": "stdout",
     "output_type": "stream",
     "text": [
      "Compute PDF of rain over the last n_days days by aggregating n time slices m times + compute error range\n",
      "\n",
      "Select consecutive time slices\n",
      "\n",
      "# time slices = 4\n",
      "0 1 2 3 4 5 6 7 8 9 10 11 12 13 14 15 16 17 18 19 \n",
      "# time slices = 8\n",
      "0 1 2 3 4 5 6 7 8 9 10 11 12 13 14 15 16 17 18 19 \n",
      "# time slices = 12\n",
      "0 1 2 3 4 5 6 7 8 9 10 11 12 13 14 15 16 17 18 19 \n",
      "# time slices = 16\n",
      "0 1 2 3 4 5 6 7 8 9 10 11 12 13 14 15 16 17 18 19 \n",
      "# time slices = 20\n",
      "0 1 2 "
     ]
    }
   ],
   "source": [
    "print(\"Compute PDF of rain over the last n_days days by aggregating n time slices m times + compute error range\")\n",
    "print()\n",
    "print('Select consecutive time slices')\n",
    "print()\n",
    "varid = 'Prec'\n",
    "m_iter = 20\n",
    "NTmax = floor(len(ds_2D.time)/10/24)*10*24 # pick the last day of the last full decade, and convert it to #hours\n",
    "NT_ref = N_days*24 # days\n",
    "pr_end = ds_2D[varid].data[NTmax-NT_ref:NTmax]\n",
    "\n",
    "n_slices = 20\n",
    "n_slices_all = np.arange(4,26,4)\n",
    "\n",
    "perc_mean_all_consec = []\n",
    "bins_mean_all_consec = []\n",
    "perc_std_all_consec = []\n",
    "cdf_mean_all_consec = []\n",
    "cdf_std_all_consec = []\n",
    "\n",
    "for n_slices in n_slices_all:\n",
    "    print('# time slices = %d'%n_slices)\n",
    "\n",
    "    perc_all = []\n",
    "    bins_all = []\n",
    "    cdf_all = []\n",
    "    \n",
    "    for i in range(m_iter):\n",
    "        print(i,end=' ')\n",
    "        ind = np.random.choice(NT_ref-n_slices,1)[0]\n",
    "        pr = pr_end[ind:(ind+n_slices)]\n",
    "        # Stats\n",
    "        ranks_ILQ_pr, perc_ILQ_pr, bins_ILQ_pr = ranksPercentilesAndBins(pr,mode='invlogQ')\n",
    "        # 1-CDF\n",
    "        cdf_ILQ_pr = computeInvCDF(pr,ranks_ILQ_pr,perc_ILQ_pr)\n",
    "        \n",
    "        perc_all.append(perc_ILQ_pr)\n",
    "        bins_all.append(bins_ILQ_pr)\n",
    "        cdf_all.append(cdf_ILQ_pr)\n",
    "\n",
    "    perc_mean_all_consec.append(np.mean(perc_all,axis=0))\n",
    "    bins_mean_all_consec.append(np.mean(bins_all,axis=0))\n",
    "    perc_std_all_consec.append(np.std(perc_all,axis=0))\n",
    "    cdf_mean_all_consec.append(np.mean(cdf_all,axis=0))\n",
    "    cdf_std_all_consec.append(np.std(cdf_all,axis=0))\n",
    "\n",
    "    print()"
   ]
  },
  {
   "cell_type": "code",
   "execution_count": null,
   "metadata": {
    "ExecuteTime": {
     "end_time": "2019-04-01T04:52:02.530330Z",
     "start_time": "2019-04-01T04:52:02.459283Z"
    }
   },
   "outputs": [],
   "source": [
    "showConsecTimeSlices = False"
   ]
  },
  {
   "cell_type": "code",
   "execution_count": null,
   "metadata": {
    "ExecuteTime": {
     "end_time": "2019-04-01T04:52:02.951399Z",
     "start_time": "2019-04-01T04:52:02.533450Z"
    }
   },
   "outputs": [],
   "source": [
    "if showConsecTimeSlices:\n",
    "\n",
    "    i999 = indexOfRank(99.9, ranks_ILQ_pr)\n",
    "    perc_mean_consec_999 = np.vstack([v[sQ] for v in perc_mean_all_consec])[:,i999]\n",
    "    perc_std_consec_999 = np.vstack([v[sQ] for v in perc_std_all_consec])[:,i999]\n",
    "\n",
    "    fig,ax = plt.subplots(ncols=1,figsize=(5,5))\n",
    "\n",
    "    ax.fill_between(x=n_slices_all,y1=perc_mean_consec_999+perc_std_consec_999,\n",
    "                    y2=perc_mean_consec_999-perc_std_consec_999,alpha=0.5,color='r',label=r'$\\sigma$')\n",
    "    ax.plot(n_slices_all,perc_mean_consec_999,'k',label=r'$\\mathbb{E}(P^{99.9})$')\n",
    "\n",
    "    ax.set_xlabel('# of time slices picked consecutively')\n",
    "    ax.set_ylabel(r'99.9$^{th}$ percentile (mm/day)')\n",
    "    ax.legend(loc='lower right',fontsize=12)\n",
    "\n",
    "    plt.savefig(os.path.join(figsubdir_distrib,'P999_err_vs_nslices_consec_last50days.pdf'),bbox_layout='tight')\n",
    "    plt.show()"
   ]
  },
  {
   "cell_type": "code",
   "execution_count": null,
   "metadata": {
    "ExecuteTime": {
     "end_time": "2019-04-01T04:52:02.997035Z",
     "start_time": "2019-04-01T04:52:02.953462Z"
    }
   },
   "outputs": [],
   "source": [
    "if randomTimeSlices:\n",
    "\n",
    "    fig,ax = plt.subplots(ncols=1,figsize=(5,5))\n",
    "\n",
    "    ax.fill_between(x=n_slices_all,y1=perc_mean_consec_999+perc_std_consec_999,\n",
    "                    y2=perc_mean_consec_999-perc_std_consec_999,alpha=0.5,color='r',label=r'$\\sigma$ consec')\n",
    "    ax.plot(n_slices_all,perc_mean_consec_999,'k',label=r'$\\mathbb{E}(P^{99.9})$ consec')\n",
    "\n",
    "    ax.fill_between(x=n_slices_all,y1=perc_mean_999+perc_std_999,\n",
    "                    y2=perc_mean_999-perc_std_999,alpha=0.5,color='b',label=r'$\\sigma$ random')\n",
    "    ax.plot(n_slices_all,perc_mean_999,'y',label=r'$\\mathbb{E}(P^{99.9})$ random')\n",
    "\n",
    "    ax.set_xlabel('# of time slices')\n",
    "    ax.set_ylabel(r'99.9$^{th}$ percentile (mm/day)')\n",
    "    # ax.legend(loc='lower right',fontsize=12)\n",
    "    ax.legend(loc='upper right',fontsize=12)\n",
    "\n",
    "    plt.savefig(os.path.join(figsubdir_distrib,'P999_err_vs_nslices_random&consec_last50days.pdf'),bbox_layout='tight')\n",
    "    plt.show()"
   ]
  },
  {
   "cell_type": "code",
   "execution_count": null,
   "metadata": {
    "ExecuteTime": {
     "end_time": "2019-04-01T04:52:03.473488Z",
     "start_time": "2019-04-01T04:52:02.999254Z"
    }
   },
   "outputs": [],
   "source": [
    "if showConsecTimeSlices:\n",
    "\n",
    "    fig,ax = plt.subplots(ncols=1,figsize=(5,5))\n",
    "\n",
    "    i_n = 5\n",
    "\n",
    "    ranks = ranks_ILQ_pr[sQ]\n",
    "    subplotYShadingRanksILog(ax,ranks,[perc_mean_all_consec[i_n][sQ]-perc_std_all_consec[i_n][sQ],\n",
    "                                       perc_mean_all_consec[i_n][sQ]+perc_std_all_consec[i_n][sQ]],\n",
    "                             col='r',alpha=0.5,transformX=False)\n",
    "\n",
    "    subplotRanksILog(ax,ranks,\n",
    "                 [perc_mean_all_consec[i_n][sQ]],ltype=['-'],col=['k'],transformX=(i==m_iter-1))\n",
    "\n",
    "\n",
    "    # Crop x-axis\n",
    "    iQ_min = 8\n",
    "    x = np.flipud(1./(1-ranks/100.))\n",
    "    ax.set_xlim((x[iQ_min-1],0.8))\n",
    "\n",
    "    ax.set_ylabel(r'Rain percentile $P^Q$ (mm/day)')\n",
    "    ax.set_xlabel(r'Rain percentile rank $Q$')\n",
    "\n",
    "    plt.savefig(os.path.join(figsubdir_distrib,'P999_err_vs_ranks_consec15_last50days.pdf'),bbox_layout='tight')\n",
    "    plt.show()\n"
   ]
  },
  {
   "cell_type": "code",
   "execution_count": null,
   "metadata": {
    "ExecuteTime": {
     "end_time": "2019-04-01T04:52:03.532594Z",
     "start_time": "2019-04-01T04:52:03.475563Z"
    }
   },
   "outputs": [],
   "source": [
    "print(\"save pr end pdf and error\")\n",
    "\n",
    "resultsubdir = os.path.join(resultdir,simroot,expname,'xy_stats_over_time')\n",
    "if not os.path.exists(resultsubdir): os.makedirs(resultsubdir)\n",
    "    \n",
    "# save2object(ranks_ILQ_pr_all,os.path.join(resultsubdir,'ranks_ILQ_pr.pickle'))\n",
    "save2object(perc_mean_all_consec,os.path.join(resultsubdir,'mean_percentiles_consec_sample_ILQ_pr.pickle'))\n",
    "save2object(cdf_mean_all_consec,os.path.join(resultsubdir,'mean_cdf_invlog_consec_sample_ILQ_pr.pickle'))\n",
    "save2object(bins_mean_all_consec,os.path.join(resultsubdir,'mean_bins_consec_sample_ILQ_pr.pickle'))\n",
    "save2object(perc_std_all_consec,os.path.join(resultsubdir,'std_percentiles_consec_sample_ILQ_pr.pickle'))\n",
    "save2object(cdf_std_all_consec,os.path.join(resultsubdir,'std_cdf_invlog_consec_sample_ILQ_pr.pickle'))\n",
    "\n",
    "if randomTimeSlices:\n",
    "    save2object(perc_mean_all_random,os.path.join(resultsubdir,'mean_percentiles_random_sample_ILQ_pr.pickle'))\n",
    "    save2object(perc_std_all_random,os.path.join(resultsubdir,'std_percentiles_random_sample_ILQ_pr.pickle'))\n",
    "\n",
    "# save2object(bins_ILQ_pr_all,os.path.join(resultsubdir,'bins_ILQ_pr.pickle'))\n",
    "# save2object(cdf_ILQ_pr_all,os.path.join(resultsubdir,'cdf_ILQ_pr.pickle'))"
   ]
  },
  {
   "cell_type": "markdown",
   "metadata": {},
   "source": [
    "## Time series of percentiles"
   ]
  },
  {
   "cell_type": "code",
   "execution_count": 54,
   "metadata": {
    "ExecuteTime": {
     "end_time": "2019-04-01T04:52:03.578722Z",
     "start_time": "2019-04-01T04:52:03.535032Z"
    }
   },
   "outputs": [
    {
     "name": "stdout",
     "output_type": "stream",
     "text": [
      "Compute time series of the PDF of rain by aggregating n time slices\n",
      "\n",
      "Select consecutive time slices\n",
      "\n",
      "0 48 96 144 192 240 288 336 384 432 480 528 576 624 672 720 768 816 864 912 960 1008 1056 1104 "
     ]
    }
   ],
   "source": [
    "if computeTimeEvolution:\n",
    "\n",
    "    print(\"Compute time series of the PDF of rain by aggregating n time slices\")\n",
    "    print()\n",
    "    print('Select consecutive time slices')\n",
    "    print()\n",
    "    varid = 'Prec'\n",
    "#     NTmax = floor(len(ds_2D.time)/10/24)*10*24 # pick the last day of the last full decade, and convert it to #hours\n",
    "#     NT_ref = 50*24 # days\n",
    "#     pr_end = ds_2D[varid].data[NTmax-NT_ref:NTmax]\n",
    "    pr_all = ds_2D[varid].data[:]\n",
    "\n",
    "    n_slices = 48\n",
    "    # n_slices_all = np.arange(2,34,4)\n",
    "\n",
    "    pr_perc_day_over_time_all = []\n",
    "\n",
    "    #     for i in np.arange(0,ds_2D.dims['time'],n_slices):\n",
    "    for i in np.arange(0,NT_ref-n_slices,n_slices):\n",
    "            print(i,end=' ')\n",
    "            pr = pr_all[NTmax-NT_ref+i:NTmax-NT_ref+(i+n_slices)]\n",
    "            ranks_ILQ_pr, perc_ILQ_pr, bins_ILQ_pr = ranksPercentilesAndBins(pr,mode='invlogQ')\n",
    "            pr_perc_day_over_time_all.append(perc_ILQ_pr[sQ])\n"
   ]
  },
  {
   "cell_type": "code",
   "execution_count": 76,
   "metadata": {},
   "outputs": [
    {
     "data": {
      "text/plain": [
       "array([ 100.04165649,  102.04165649,  104.04165649,  106.04165649,\n",
       "        108.04165649,  110.04165649,  112.04165649,  114.04165649,\n",
       "        116.04165649,  118.04165649,  120.04165649,  122.04165649,\n",
       "        124.04165649,  126.04165649,  128.04167175,  130.04167175,\n",
       "        132.04167175,  134.04167175,  136.04167175,  138.04167175,\n",
       "        140.04167175,  142.04167175,  144.04167175,  146.04167175])"
      ]
     },
     "execution_count": 76,
     "metadata": {},
     "output_type": "execute_result"
    }
   ],
   "source": [
    "time_48h = np.take(ds_2D.time.values,range(NTmax-NT_ref,NTmax-n_slices,n_slices))\n",
    "time_48h"
   ]
  },
  {
   "cell_type": "code",
   "execution_count": 80,
   "metadata": {},
   "outputs": [
    {
     "data": {
      "text/plain": [
       "array([ 45.98726654,  45.65331268,  45.26367188,  45.34980774,\n",
       "        46.57249069,  47.28741455,  47.12528229,  47.49488831,\n",
       "        46.3332901 ,  45.37813187,  45.7936821 ,  45.97301483,\n",
       "        45.58635712,  43.9359436 ,  43.32822037,  42.32199478,\n",
       "        43.35483932,  44.10386276,  43.24251556,  43.62337494,\n",
       "        44.44727707,  43.44997025,  42.33750916,  43.13518524], dtype=float32)"
      ]
     },
     "execution_count": 80,
     "metadata": {},
     "output_type": "execute_result"
    }
   ],
   "source": [
    "pw_mean = np.take(np.mean(ds_2D.PW.values,axis=(1,2)),range(NTmax-NT_ref,NTmax-n_slices,n_slices))\n",
    "pw_mean"
   ]
  },
  {
   "cell_type": "code",
   "execution_count": 90,
   "metadata": {},
   "outputs": [
    {
     "name": "stdout",
     "output_type": "stream",
     "text": [
      "show evolution of extremes over the last 50 days of simulation, for a 48h accumulation\n"
     ]
    },
    {
     "data": {
      "image/png": "[encoded data removed]",
      "text/plain": [
       "<Figure size 432x360 with 2 Axes>"
      ]
     },
     "metadata": {},
     "output_type": "display_data"
    }
   ],
   "source": [
    "print('show evolution of extremes over the last 50 days of simulation, for a 48h accumulation')\n",
    "\n",
    "pr_perc_day_over_time_prQ = [np.mean(perc[sQext]) for perc in pr_perc_day_over_time_all]\n",
    "\n",
    "fig, ax = plt.subplots(figsize=(6,5))\n",
    "\n",
    "c1 = ax.plot(time_48h,pr_perc_day_over_time_prQ,label=r'$P^{99.9-99.99}$')\n",
    "ax2 = ax.twinx()\n",
    "c2 = ax2.plot(time_48h,pw_mean,'g',label=r'$PW$')\n",
    "ax.set_xlabel('Days')\n",
    "ax.set_ylabel(r'Extreme $P^{99.9-99.99}$ (mm/day)')\n",
    "ax2.set_ylabel(r'Extreme $PW$ (mm)')\n",
    "\n",
    "# legend\n",
    "lns = c1+c2\n",
    "labs = [l.get_label() for l in lns]\n",
    "ax.legend(lns, labs, loc=0)\n",
    "\n",
    "plt.savefig(os.path.join(figsubdir_distrib,'P999_9999_PW_vs_time_consec48_last50days.pdf'),bbox_layout='tight')"
   ]
  },
  {
   "cell_type": "code",
   "execution_count": 24,
   "metadata": {
    "ExecuteTime": {
     "end_time": "2019-04-01T04:52:03.624933Z",
     "start_time": "2019-04-01T04:52:03.580806Z"
    }
   },
   "outputs": [
    {
     "name": "stdout",
     "output_type": "stream",
     "text": [
      "Compute time series of the PDF of PW by aggregating n time slices\n",
      "\n",
      "Select consecutive time slices\n",
      "\n",
      "0 "
     ]
    },
    {
     "name": "stderr",
     "output_type": "stream",
     "text": [
      "/global/homes/b/bfildier/anaconda3/envs/pyPhD/lib/python3.6/site-packages/numpy/lib/function_base.py:817: RuntimeWarning: invalid value encountered in true_divide\n",
      "  return n/db/n.sum(), bins\n"
     ]
    },
    {
     "name": "stdout",
     "output_type": "stream",
     "text": [
      "24 48 72 96 120 144 168 192 216 240 264 288 312 336 360 384 408 432 456 480 504 528 552 576 600 624 648 672 696 720 744 768 792 816 840 864 888 912 936 960 984 1008 1032 1056 1080 1104 1128 1152 1176 1200 1224 1248 1272 1296 1320 1344 1368 1392 1416 1440 1464 1488 1512 1536 1560 1584 1608 1632 1656 1680 1704 1728 1752 1776 1800 1824 1848 1872 1896 1920 1944 1968 1992 2016 2040 2064 2088 2112 2136 2160 2184 2208 2232 2256 2280 2304 2328 2352 2376 2400 2424 2448 2472 2496 2520 2544 2568 2592 2616 2640 2664 2688 2712 2736 2760 2784 2808 2832 2856 2880 2904 2928 2952 2976 3000 3024 3048 3072 3096 3120 3144 3168 3192 3216 3240 3264 3288 3312 3336 3360 3384 3408 3432 3456 3480 3504 3528 3552 3576 "
     ]
    }
   ],
   "source": [
    "if computeTimeEvolution:\n",
    "\n",
    "    print(\"Compute time series of the PDF of PW by aggregating n time slices\")\n",
    "    print()\n",
    "    print('Select consecutive time slices')\n",
    "    print()\n",
    "    varid = 'PW'\n",
    "    pw_all = ds_2D[varid].data[:]\n",
    "\n",
    "    n_slices = 24\n",
    "    # n_slices_all = np.arange(2,34,4)\n",
    "\n",
    "    pw_dens_day_over_time_all = []\n",
    "\n",
    "    for i in np.arange(0,ds_2D.dims['time'],n_slices):\n",
    "        print(i,end=' ')\n",
    "        pw = pw_all[i:(i+n_slices)]\n",
    "        ranks_l_pw, perc_l_pw, bins_l_pw, densities_pw = compute1dDensities(pw,\n",
    "                                                                        n_lin_bins=100,\n",
    "                                                                        vmin=3,vmax=60,mode='linear')\n",
    "        pw_dens_day_over_time_all.append(densities_pw)\n"
   ]
  },
  {
   "cell_type": "code",
   "execution_count": 25,
   "metadata": {
    "ExecuteTime": {
     "end_time": "2019-04-01T04:52:03.669406Z",
     "start_time": "2019-04-01T04:52:03.627123Z"
    }
   },
   "outputs": [
    {
     "name": "stdout",
     "output_type": "stream",
     "text": [
      "save pr end pw time series\n"
     ]
    }
   ],
   "source": [
    "if computeTimeEvolution:\n",
    "\n",
    "    print(\"save pr end pw time series\")\n",
    "\n",
    "    resultsubdir = os.path.join(resultdir,simroot,expname,'xy_stats_over_time')\n",
    "    if not os.path.exists(resultsubdir): os.makedirs(resultsubdir)\n",
    "\n",
    "    save2object(ranks_ILQ_pr,os.path.join(resultsubdir,'ranks_for_consec24_ILQ_pr.pickle'))\n",
    "    save2object(pr_perc_day_over_time_all,os.path.join(resultsubdir,'percentiles_consec24_ILQ_pr.pickle'))\n",
    "    save2object(pw_dens_day_over_time_all,os.path.join(resultsubdir,'density_consec24_lQ_pw.pickle'))\n",
    "    save2object(bins_l_pw,os.path.join(resultsubdir,'bins_for_consec24_lQ_pw.pickle'))\n",
    "\n"
   ]
  },
  {
   "cell_type": "markdown",
   "metadata": {},
   "source": [
    "### GIFs"
   ]
  },
  {
   "cell_type": "code",
   "execution_count": 71,
   "metadata": {
    "ExecuteTime": {
     "end_time": "2019-04-01T04:52:03.713210Z",
     "start_time": "2019-04-01T04:52:03.671458Z"
    }
   },
   "outputs": [],
   "source": [
    "figsubdir_distrib_gifs = os.path.join(figdir,'distributions','gifs')\n",
    "if not os.path.exists(figsubdir_distrib_gifs): os.makedirs(figsubdir_distrib_gifs)"
   ]
  },
  {
   "cell_type": "code",
   "execution_count": 72,
   "metadata": {
    "ExecuteTime": {
     "end_time": "2019-04-01T04:52:03.760011Z",
     "start_time": "2019-04-01T04:52:03.715435Z"
    }
   },
   "outputs": [],
   "source": [
    "if computeTimeEvolution:\n",
    "\n",
    "    print(\"Create gif \")\n",
    "\n",
    "    Ndays_end = 50\n",
    "    NT_end = Ndays_end*24\n",
    "\n",
    "    i_T = 20\n",
    "\n",
    "    for i_T in range(ds_2D.dims['time']//24-Ndays_end,ds_2D.dims['time']//24):\n",
    "\n",
    "        print(i_T,end=' ')\n",
    "\n",
    "        fig,ax = plt.subplots(ncols=2,figsize=(11,5))\n",
    "\n",
    "        ax[0].set_ylim((-30,1030))\n",
    "        ax[1].set_ylim((-0.003,0.103))\n",
    "\n",
    "        ranks = ranks_ILQ_pr[sQ]\n",
    "        # subplotYShadingRanksILog(ax,ranks,[perc_mean_all_consec[i_n]-perc_std_all_consec[i_n],\n",
    "        #                                    perc_mean_all_consec[i_n]+perc_std_all_consec[i_n]],\n",
    "        #                          col='r',alpha=0.5,transformX=False)\n",
    "\n",
    "        subplotRanksILog(ax[0],ranks,\n",
    "                     [pr_perc_day_over_time_all[i_T]],ltype=['-'],col=['k'],transformX=True)\n",
    "\n",
    "        ax[0].set_ylabel(r'Rain percentile $P^Q$ (mm/day)')\n",
    "        ax[0].set_xlabel(r'Rain percentile rank $Q$')\n",
    "\n",
    "        # Crop x-axis\n",
    "        iQ_min = 8\n",
    "        x = np.flipud(1./(1-ranks/100.))\n",
    "        ax[0].set_xlim((x[iQ_min-1],0.8))\n",
    "\n",
    "        ax[1].plot(perc_l_pw,pw_dens_day_over_time_all[i_T],'b')\n",
    "        ax[1].set_ylabel(r'Probability density')\n",
    "        ax[1].set_xlabel(r'PW (mm)')\n",
    "\n",
    "        plt.savefig(os.path.join(figsubdir_distrib_gifs,'pr_vs_ranks_and_pw_pdf_%d_last%ddays.pdf'%(i_T,Ndays_end)),bbox_layout='tight')\n",
    "        plt.close()\n",
    "\n"
   ]
  },
  {
   "cell_type": "code",
   "execution_count": 73,
   "metadata": {
    "ExecuteTime": {
     "end_time": "2019-04-01T04:52:03.803498Z",
     "start_time": "2019-04-01T04:52:03.762451Z"
    }
   },
   "outputs": [],
   "source": [
    "if computeTimeEvolution:\n",
    "\n",
    "    print(\"Draw percentiles vs. time\")\n",
    "\n",
    "    i999 = indexOfRank(99.9, ranks_ILQ_pr)\n",
    "    pr_perc_day_over_time_999 = np.vstack(pr_perc_day_over_time_all)[:,i999]\n",
    "\n",
    "    day_0 = ds_2D['time'][0]\n",
    "    ndays = ds_2D.dims['time']/24\n",
    "    time = np.arange(day_0,day_0+ndays)\n",
    "\n",
    "    fig,ax = plt.subplots(ncols=1,figsize=(5,5))\n",
    "\n",
    "    ax.plot(time,pr_perc_day_over_time_999,'k')\n",
    "    ax.set_xlabel('Time')\n",
    "    ax.set_ylabel(r'$P^{99.9}$ (mm/day)')\n",
    "\n",
    "    plt.savefig(os.path.join(figsubdir_distrib,'P999_over_time_consec24.pdf'),bbox_layout='tight')"
   ]
  },
  {
   "cell_type": "markdown",
   "metadata": {},
   "source": [
    "## Time evolution of PDFs"
   ]
  },
  {
   "cell_type": "code",
   "execution_count": 74,
   "metadata": {
    "ExecuteTime": {
     "end_time": "2019-04-01T04:52:03.845807Z",
     "start_time": "2019-04-01T04:52:03.805547Z"
    }
   },
   "outputs": [],
   "source": [
    "computeTimeEvolution = False"
   ]
  },
  {
   "cell_type": "code",
   "execution_count": 75,
   "metadata": {
    "ExecuteTime": {
     "end_time": "2019-04-01T04:52:03.892798Z",
     "start_time": "2019-04-01T04:52:03.847837Z"
    }
   },
   "outputs": [],
   "source": [
    "if computeTimeEvolution:\n",
    "\n",
    "    varid = 'Prec'\n",
    "\n",
    "    print(\"Compute PDF of rain every 10 days by aggregating hourly properties\")\n",
    "\n",
    "    # ref axis\n",
    "    ranks_ILQ_pr, perc_ILQ_pr, bins_ILQ_pr = ranksPercentilesAndBins(ds_2D[varid].data[slice(0,10)],mode='invlogQ')\n",
    "\n",
    "    NT = min(ds_STAT.dims['time'],ds_2D.dims['time'])\n",
    "    Ts = np.arange(240,NT,240)\n",
    "    dt = 10 # ndays moving window to compute statistics\n",
    "\n",
    "    ranks_ILQ_pr_all = {}\n",
    "    perc_ILQ_pr_all = {}\n",
    "    bins_ILQ_pr_all = {}\n",
    "    cdf_ILQ_pr_all = {}\n",
    "\n",
    "    for i in range(len(Ts)):\n",
    "\n",
    "        T = Ts[i]\n",
    "        sT = slice(T-dt/2*24,T+dt/2*24)\n",
    "\n",
    "        # PDF\n",
    "        ranks_ILQ_pr, perc_ILQ_pr, bins_ILQ_pr = ranksPercentilesAndBins(ds_2D[varid].data[sT],mode='invlogQ')\n",
    "\n",
    "        # 1-CDF\n",
    "        cdf_ILQ_pr = computeInvCDF(ds_2D[varid].data[sT],ranks_ILQ_pr,perc_ILQ_pr)\n",
    "\n",
    "        ranks_ILQ_pr_all[\"%d\"%T] = ranks_ILQ_pr\n",
    "        perc_ILQ_pr_all[\"%d\"%T] = perc_ILQ_pr\n",
    "        bins_ILQ_pr_all[\"%d\"%T] = bins_ILQ_pr\n",
    "        cdf_ILQ_pr_all[\"%d\"%T] = cdf_ILQ_pr"
   ]
  },
  {
   "cell_type": "code",
   "execution_count": 76,
   "metadata": {
    "ExecuteTime": {
     "end_time": "2019-04-01T04:52:03.941539Z",
     "start_time": "2019-04-01T04:52:03.894904Z"
    }
   },
   "outputs": [],
   "source": [
    "if computeTimeEvolution:\n",
    "    varid = 'Prec'\n",
    "\n",
    "    colorInd = range(len(Ts))\n",
    "    cm = plt.get_cmap('jet') \n",
    "    cNorm = colors.Normalize(vmin=0, vmax=colorInd[-1])\n",
    "    scalarMap = cmx.ScalarMappable(norm=cNorm, cmap=cm)\n",
    "\n",
    "    fig,ax = plt.subplots(ncols=1,figsize=(6,5))\n",
    "\n",
    "    for i in range(len(Ts)):\n",
    "\n",
    "        T = Ts[i]\n",
    "        colorVal = scalarMap.to_rgba(colorInd[i])\n",
    "\n",
    "        # PDF\n",
    "        subplotRanksILog(ax,ranks_ILQ_pr_all[\"%d\"%T][sQ],\n",
    "                     [perc_ILQ_pr_all[\"%d\"%T][sQ]],ltype=['-'],col=[colorVal],\n",
    "                     labels=['t=%d days'%(T/24)],transformX=(T==Ts[-1]))\n",
    "\n",
    "    # ax[0].set_yscale('log')\n",
    "    ax.set_ylabel(r'Rain percentile $P^Q$ (mm/day)')\n",
    "    ax.set_xlabel(r'Rain percentile rank $Q$')\n",
    "\n",
    "    ax.legend(fontsize=11)\n",
    "\n",
    "    plt.savefig(os.path.join(figsubdir_distrib,'pdf_%s_over_time.pdf'%(varid)),bbox_layout='tight')\n",
    "    plt.show()"
   ]
  },
  {
   "cell_type": "code",
   "execution_count": 77,
   "metadata": {
    "ExecuteTime": {
     "end_time": "2019-04-01T04:52:03.990567Z",
     "start_time": "2019-04-01T04:52:03.943865Z"
    }
   },
   "outputs": [],
   "source": [
    "if computeTimeEvolution:\n",
    "\n",
    "    colorInd = range(len(Ts))\n",
    "    cm = plt.get_cmap('jet') \n",
    "    cNorm = colors.Normalize(vmin=0, vmax=colorInd[-1])\n",
    "    scalarMap = cmx.ScalarMappable(norm=cNorm, cmap=cm)\n",
    "\n",
    "    fig,ax = plt.subplots(ncols=1,figsize=(6,5))\n",
    "\n",
    "    for i in range(len(Ts)):\n",
    "\n",
    "            T = Ts[i]\n",
    "            colorVal = scalarMap.to_rgba(colorInd[i])\n",
    "\n",
    "            # 1-CDF\n",
    "            subplotRanksILog(ax,ranks_ILQ_pr_all[\"%d\"%T][sQ],\n",
    "                         [cdf_ILQ_pr_all[\"%d\"%T][sQ]],\n",
    "                         col=[colorVal],ltype=['-'],\n",
    "                         labels=['t=%d days'%(T/24)],transformX=(T==Ts[-1]))\n",
    "\n",
    "    ax.set_title(\"1-CDF(P)\")\n",
    "    ax.set_xlabel(r'Rain percentile rank $Q$ (%)')\n",
    "    ax.set_ylabel(r'Fraction of rain above $P^Q$')\n",
    "\n",
    "    ax.legend(fontsize=11)\n",
    "\n",
    "    plt.savefig(os.path.join(figsubdir_distrib,'cdfinv_%s_amounts_over_time.pdf'%(varid)),bbox_layout='tight')\n",
    "    plt.show()"
   ]
  },
  {
   "cell_type": "code",
   "execution_count": 78,
   "metadata": {
    "ExecuteTime": {
     "end_time": "2019-04-01T04:52:04.036749Z",
     "start_time": "2019-04-01T04:52:03.992773Z"
    }
   },
   "outputs": [],
   "source": [
    "if computeTimeEvolution:\n",
    "\n",
    "    print(\"save pr pdfs\")\n",
    "\n",
    "    resultsubdir = os.path.join(resultdir,simroot,expname,'xy_stats_over_time')\n",
    "    if not os.path.exists(resultsubdir): os.makedirs(resultsubdir)\n",
    "\n",
    "    save2object(ranks_ILQ_pr_all,os.path.join(resultsubdir,'ranks_ILQ_pr.pickle'))\n",
    "    save2object(perc_ILQ_pr_all,os.path.join(resultsubdir,'percentiles_ILQ_pr.pickle'))\n",
    "    save2object(bins_ILQ_pr_all,os.path.join(resultsubdir,'bins_ILQ_pr.pickle'))\n",
    "    save2object(cdf_ILQ_pr_all,os.path.join(resultsubdir,'cdf_ILQ_pr.pickle'))"
   ]
  },
  {
   "cell_type": "code",
   "execution_count": null,
   "metadata": {},
   "outputs": [],
   "source": []
  }
 ],
 "metadata": {
  "hide_input": false,
  "kernelspec": {
   "display_name": "pyPhD",
   "language": "python",
   "name": "pyphd"
  },
  "language_info": {
   "codemirror_mode": {
    "name": "ipython",
    "version": 3
   },
   "file_extension": ".py",
   "mimetype": "text/x-python",
   "name": "python",
   "nbconvert_exporter": "python",
   "pygments_lexer": "ipython3",
   "version": "3.6.6"
  },
  "latex_envs": {
   "LaTeX_envs_menu_present": true,
   "autoclose": false,
   "autocomplete": true,
   "bibliofile": "biblio.bib",
   "cite_by": "apalike",
   "current_citInitial": 1,
   "eqLabelWithNumbers": true,
   "eqNumInitial": 1,
   "hotkeys": {
    "equation": "Ctrl-E",
    "itemize": "Ctrl-I"
   },
   "labels_anchors": false,
   "latex_user_defs": false,
   "report_style_numbering": false,
   "user_envs_cfg": false
  },
  "toc": {
   "base_numbering": 1,
   "nav_menu": {},
   "number_sections": true,
   "sideBar": true,
   "skip_h1_title": false,
   "title_cell": "Table of Contents",
   "title_sidebar": "Contents",
   "toc_cell": false,
   "toc_position": {},
   "toc_section_display": true,
   "toc_window_display": false
  },
  "varInspector": {
   "cols": {
    "lenName": 16,
    "lenType": 16,
    "lenVar": 40
   },
   "kernels_config": {
    "python": {
     "delete_cmd_postfix": "",
     "delete_cmd_prefix": "del ",
     "library": "var_list.py",
     "varRefreshCmd": "print(var_dic_list())"
    },
    "r": {
     "delete_cmd_postfix": ") ",
     "delete_cmd_prefix": "rm(",
     "library": "var_list.r",
     "varRefreshCmd": "cat(var_dic_list()) "
    }
   },
   "types_to_exclude": [
    "module",
    "function",
    "builtin_function_or_method",
    "instance",
    "_Feature"
   ],
   "window_display": false
  }
 },
 "nbformat": 4,
 "nbformat_minor": 4
}
