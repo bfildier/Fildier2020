{
 "cells": [
  {
   "cell_type": "code",
   "execution_count": 2,
   "metadata": {},
   "outputs": [],
   "source": [
    "%load_ext autoreload\n",
    "%matplotlib inline"
   ]
  },
  {
   "cell_type": "code",
   "execution_count": 3,
   "metadata": {},
   "outputs": [
    {
     "name": "stdout",
     "output_type": "stream",
     "text": [
      "repo: /global/cscratch1/sd/bfildier/dataAnalysis/Fildier2020\n",
      "Own modules available: ['thermoConstants', 'setEnv', 'thermoFunctions', 'importingData', 'statisticalDistributions', 'plot1DInvLog', 'conditionalstats', 'dataFormat', 'savingResults', 'thermoConstantsForMoistAdiabat', 'scalingApproximations', 'slicingAndSubsetting', 'thermoFunctionsForMoistAdiabat', 'plot2D']\n"
     ]
    }
   ],
   "source": [
    "%autoreload 2\n",
    "\n",
    "import numpy as np\n",
    "import sys,os,glob\n",
    "import matplotlib\n",
    "# matplotlib.use(\"PDF\")\n",
    "import matplotlib.pyplot as plt\n",
    "# from mpl_toolkits.basemap import Basemap\n",
    "import matplotlib.colors as colors\n",
    "import matplotlib.cm as cmx\n",
    "import xarray as xr\n",
    "\n",
    "## Add own library to path\n",
    "workdir = os.getcwd()\n",
    "repodir = workdir\n",
    "while os.path.basename(repodir) != 'Fildier2020':\n",
    "    repodir = os.path.dirname(repodir)\n",
    "print('repo:',repodir)\n",
    "thismodule = sys.modules[__name__]\n",
    "moduledir = os.path.join(repodir,'functions')\n",
    "sys.path.insert(0,moduledir)\n",
    "print(\"Own modules available:\", [os.path.splitext(os.path.basename(x))[0]\n",
    "                                 for x in glob.glob(os.path.join(moduledir,'*.py'))])\n",
    "\n",
    "## Load own libraries\n",
    "from thermoConstants import *\n",
    "from conditionalstats import *\n",
    "from plot1DInvLog import *\n",
    "from importingData import *\n",
    "from savingResults import *\n",
    "from scalingApproximations import *\n",
    "\n",
    "## Graphical parameters\n",
    "plt.style.use(os.path.join(matplotlib.get_configdir(),'stylelib/presentation.mplstyle'))"
   ]
  },
  {
   "cell_type": "code",
   "execution_count": 4,
   "metadata": {},
   "outputs": [],
   "source": [
    "def getSimulationInfo(simname):\n",
    "    \n",
    "    chunks = simname.split('_')\n",
    "    case = chunks[0]\n",
    "    Nxyz = chunks[3]\n",
    "    Nx,Ny,Nz = np.array(Nxyz.split('x'),dtype=int)\n",
    "    Nproc = np.max(np.array(Nxyz.split('x'),dtype=int))\n",
    "    simroot = '_'.join(chunks[:4])\n",
    "    expname = chunks[4]\n",
    "    expchunks = expname.split('-')\n",
    "    SST = int([expchunk[-3:] for expchunk in expchunks if re.match(\"SST*\",expchunk)][0])\n",
    "    \n",
    "    return simroot, expname, SST, Nproc"
   ]
  },
  {
   "cell_type": "code",
   "execution_count": 5,
   "metadata": {},
   "outputs": [],
   "source": [
    "# simname = \"RCE_MPDATAxTKExCAMxSAM1MOM_4000x4000x15_256x256x64_TKE-SST308-r2\"\n",
    "simname = \"RCE_MPDATAxTKExCAMxSAM1MOM_4000x4000x15_256x256x64_TKE-SST304-radhomo-r1\"\n",
    "simroot, expname, SST, Nproc = getSimulationInfo(simname)\n",
    "ndays = 50\n"
   ]
  },
  {
   "cell_type": "code",
   "execution_count": 6,
   "metadata": {},
   "outputs": [],
   "source": [
    "archivedir = getArchivedir(machine='coriknl')\n",
    "resultdir = os.path.join(os.path.dirname(moduledir),'results',simroot,expname,\n",
    "                         'stats_%ddays'%ndays)\n",
    "os.makedirs(resultdir,exist_ok=True)\n",
    "figuredir = os.path.join(os.path.dirname(moduledir),'figures')"
   ]
  },
  {
   "cell_type": "code",
   "execution_count": 7,
   "metadata": {},
   "outputs": [
    {
     "name": "stdout",
     "output_type": "stream",
     "text": [
      "load data\n"
     ]
    }
   ],
   "source": [
    "print('load data')\n",
    "\n",
    "# 2D data\n",
    "filepattern_2D = os.path.join(archivedir,simname,\"OUT_2D\",\"%s_%s.2Dcom_*.nc\"%(simname,Nproc))\n",
    "varids = 'Prec',\n",
    "vars2D2drop = ['PBLH', 'SHF', 'LHF', 'LWNS', 'LWNSC', 'LWNT', 'LWNTC',\\\n",
    "            'SOLIN', 'SWNS', 'SWNSC', 'SWNT', 'SWNTC', 'CWP', 'IWP', 'CLD', 'USFC', 'U200',\\\n",
    "            'VSFC', 'V200', 'W730', 'PSFC', 'SWVP', 'U850', 'V850', 'ZC', 'TB', 'ZE']\n",
    "data2D = xr.open_mfdataset(filepattern_2D,decode_cf=False,data_vars=varids,drop_variables=vars2D2drop)\n",
    "\n",
    "# 3D data\n",
    "if 'radhomo' in simname:\n",
    "    NDmax = 100\n",
    "else:\n",
    "    NDmax = int(data2D.time.values[-1])\n",
    "    \n",
    "stepmax = NDmax*24*60*60//15\n",
    "stepmin = stepmax - ndays*24*60*60//15\n",
    "offset = 1*60*60//15 # = 1 hr lag\n",
    "\n",
    "steprange = (stepmin-offset,stepmax-offset)\n",
    "files_in_steprange = get3DFilesBetweenSteps(archivedir,simname,steprange)\n",
    "\n",
    "vars3D2drop = ['U', 'V', 'PP', 'QRAD', 'LWU', 'LWD', 'LWUS', 'LWDS', 'QN', 'QP']\n",
    "data3D = xr.open_mfdataset(files_in_steprange,decode_cf=False,drop_variables=vars3D2drop)"
   ]
  },
  {
   "cell_type": "code",
   "execution_count": 16,
   "metadata": {},
   "outputs": [
    {
     "name": "stdout",
     "output_type": "stream",
     "text": [
      "data for analysis\n"
     ]
    }
   ],
   "source": [
    "# %%timeit\n",
    "print(\"data for analysis\")\n",
    "\n",
    "# slice to analyze\n",
    "# NTmax = floor(len(data2D.time)/10/24)*10*24\n",
    "NTmax = NDmax*24\n",
    "s_end = slice(NTmax-24*ndays,NTmax)    \n",
    "\n",
    "# data\n",
    "# pr = data2D.Prec.values[s_end,:,:]\n",
    "pr = data2D.Prec[s_end,:,:].values\n",
    "# w = data3D.W.values\n",
    "# tabs = data3D.TABS.values\n",
    "# qv = data3D.QV.values\n",
    "p_profile = np.array(np.mean(data3D.p,axis=0))\n",
    "z_coord = data3D.z.values"
   ]
  },
  {
   "cell_type": "code",
   "execution_count": 14,
   "metadata": {},
   "outputs": [
    {
     "name": "stdout",
     "output_type": "stream",
     "text": [
      "(1200, 256, 256) (1200, 64, 256, 256)\n"
     ]
    }
   ],
   "source": [
    "print(pr.shape, data3D.W.shape)"
   ]
  },
  {
   "cell_type": "code",
   "execution_count": 8,
   "metadata": {},
   "outputs": [
    {
     "name": "stdout",
     "output_type": "stream",
     "text": [
      "recompute precipitation statistics\n"
     ]
    },
    {
     "name": "stderr",
     "output_type": "stream",
     "text": [
      "/global/homes/b/bfildier/anaconda3/envs/pyPhD/lib/python3.6/site-packages/numpy/lib/function_base.py:817: RuntimeWarning: invalid value encountered in true_divide\n",
      "  return n/db/n.sum(), bins\n"
     ]
    },
    {
     "name": "stdout",
     "output_type": "stream",
     "text": [
      "Finding bin locations...\n",
      "bin #: 0..1..2..3..4..5..6..7..8..9..10..11..12..13..14..15..16..17..18..19..20..21..22..23..24..25..26..27..28..29..30..31..32..33..34..35..36..37..38..39..40..41..42..43..44..45..46..47..48..49..50..51..52..53..54..55..56..57..58..59..60..61..62..63..64..65..66..67..68..\n",
      "\n"
     ]
    }
   ],
   "source": [
    "print('recompute precipitation statistics')\n",
    "\n",
    "dist_pr_IL = Distribution(name='pr',bintype='invlogQ',fill_last_decade=True)\n",
    "# Compute\n",
    "dist_pr_IL.computeDistribution(sample=pr)\n",
    "# Store locations of reference points in each bin\n",
    "dist_pr_IL.storeSamplePoints(sample=pr,verbose=True,sizemax=500)\n",
    "# Compute inverse CDF on IL bins (fraction of rain mass above percentile)\n",
    "dist_pr_IL.computeInvCDF(sample=pr)\n",
    "# Compute bootstrapping to estimate uncertainty on percentiles\n",
    "nd_resample = 10*24 # time slices for 10 days\n",
    "dist_pr_IL.bootstrapPercentiles(sample=pr,nd_resample=nd_resample)\n",
    "# Compute individual percentiles for error bar on the mean\n",
    "dist_pr_IL.computeIndividualPercentiles(sample=pr,ranks=[5,25,50,75,95])"
   ]
  },
  {
   "cell_type": "code",
   "execution_count": 9,
   "metadata": {},
   "outputs": [
    {
     "name": "stdout",
     "output_type": "stream",
     "text": [
      "compute conditional statistics\n"
     ]
    }
   ],
   "source": [
    "print(\"compute conditional statistics\")\n",
    "\n",
    "# define\n",
    "cdist_w_on_pr_IL = ConditionalDistribution(name='W',is3D=True,isTime=True,on=dist_pr_IL)\n",
    "cdist_tabs_on_pr_IL = ConditionalDistribution(name='T',is3D=True,isTime=True,on=dist_pr_IL)\n",
    "# compute conditional distributions\n",
    "cdist_w_on_pr_IL.computeConditionalMeanAndVariance(data3D.W.values)\n",
    "cdist_tabs_on_pr_IL.computeConditionalMeanAndVariance(data3D.TABS.values)"
   ]
  },
  {
   "cell_type": "code",
   "execution_count": 10,
   "metadata": {},
   "outputs": [
    {
     "name": "stdout",
     "output_type": "stream",
     "text": [
      "compute OGS09 scaling approximation\n"
     ]
    }
   ],
   "source": [
    "print('compute OGS09 scaling approximation')\n",
    "\n",
    "pr_OGS09 = np.nan*np.zeros(len(dist_pr_IL.ranks))\n",
    "for iQ in range(len(dist_pr_IL.ranks)):\n",
    "    w_prof = cdist_w_on_pr_IL.cond_mean[:,iQ]\n",
    "    tabs_prof = cdist_tabs_on_pr_IL.cond_mean[:,iQ]\n",
    "    pr_OGS09[iQ] = -scalingOGS09_zcoord(w_prof,tabs_prof,p_profile,z_coord,levdim=0)"
   ]
  },
  {
   "cell_type": "code",
   "execution_count": 13,
   "metadata": {},
   "outputs": [
    {
     "data": {
      "image/png": "[encoded data removed]",
      "text/plain": [
       "<Figure size 432x288 with 1 Axes>"
      ]
     },
     "metadata": {},
     "output_type": "display_data"
    }
   ],
   "source": [
    "fig,ax = plt.subplots()\n",
    "subplotRanksILog(ax,dist_pr_IL.ranks,dist_pr_IL.percentiles,transformX=False)\n",
    "subplotRanksILog(ax,dist_pr_IL.ranks,pr_OGS09*86400,transformX=False)\n",
    "x = np.flipud(1./(1-dist_pr_IL.ranks/100.))\n",
    "transformXaxisIL(ax,x)\n",
    "plt.show()"
   ]
  },
  {
   "cell_type": "code",
   "execution_count": 22,
   "metadata": {},
   "outputs": [],
   "source": [
    "from scipy.optimize import curve_fit\n",
    "\n",
    "def computePE(perc,scaling,sQ):\n",
    "\n",
    "    x = scaling[sQ]\n",
    "    y = perc[sQ]/86400\n",
    "    f = lambda x,alpha: alpha*x\n",
    "\n",
    "    eps, ecov = curve_fit(f,x,y,p0=1)\n",
    "    return eps[0], ecov[0][0]\n",
    "\n",
    "sQ9999_99999 = slice(39,49)\n",
    "eps, ecov = computePE(dist_pr_IL.percentiles,pr_OGS09,sQ9999_99999)"
   ]
  },
  {
   "cell_type": "code",
   "execution_count": 23,
   "metadata": {},
   "outputs": [
    {
     "data": {
      "text/plain": [
       "(0.88095947486760762, 0.00014733982369268537)"
      ]
     },
     "execution_count": 23,
     "metadata": {},
     "output_type": "execute_result"
    }
   ],
   "source": []
  },
  {
   "cell_type": "code",
   "execution_count": 14,
   "metadata": {},
   "outputs": [
    {
     "data": {
      "image/png": "[encoded data removed]",
      "text/plain": [
       "<Figure size 432x288 with 1 Axes>"
      ]
     },
     "metadata": {},
     "output_type": "display_data"
    }
   ],
   "source": [
    "iQ = 39\n",
    "fig,ax = plt.subplots()\n",
    "ax.plot(cdist_w_on_pr_IL.cond_mean[:,iQ],p_profile)\n",
    "ax.fill_betweenx(p_profile,\n",
    "                 cdist_w_on_pr_IL.cond_mean[:,iQ]-cdist_w_on_pr_IL.cond_std[:,iQ],\n",
    "                 cdist_w_on_pr_IL.cond_mean[:,iQ]+cdist_w_on_pr_IL.cond_std[:,iQ],\n",
    "                 alpha=0.2)\n",
    "ax.invert_yaxis()\n",
    "plt.show()"
   ]
  },
  {
   "cell_type": "code",
   "execution_count": null,
   "metadata": {},
   "outputs": [],
   "source": []
  }
 ],
 "metadata": {
  "kernelspec": {
   "display_name": "pyPhD",
   "language": "python",
   "name": "pyphd"
  },
  "language_info": {
   "codemirror_mode": {
    "name": "ipython",
    "version": 3
   },
   "file_extension": ".py",
   "mimetype": "text/x-python",
   "name": "python",
   "nbconvert_exporter": "python",
   "pygments_lexer": "ipython3",
   "version": "3.6.6"
  }
 },
 "nbformat": 4,
 "nbformat_minor": 4
}
