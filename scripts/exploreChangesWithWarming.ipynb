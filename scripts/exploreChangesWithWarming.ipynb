{
 "cells": [
  {
   "cell_type": "code",
   "execution_count": 11,
   "metadata": {
    "ExecuteTime": {
     "end_time": "2018-10-09T18:31:30.984557Z",
     "start_time": "2018-10-09T18:31:30.977227Z"
    }
   },
   "outputs": [
    {
     "name": "stdout",
     "output_type": "stream",
     "text": [
      "The autoreload extension is already loaded. To reload it, use:\n",
      "  %reload_ext autoreload\n"
     ]
    }
   ],
   "source": [
    "%load_ext autoreload\n",
    "%matplotlib inline"
   ]
  },
  {
   "cell_type": "code",
   "execution_count": 12,
   "metadata": {
    "ExecuteTime": {
     "end_time": "2018-10-09T18:31:31.466981Z",
     "start_time": "2018-10-09T18:31:31.458800Z"
    }
   },
   "outputs": [
    {
     "name": "stdout",
     "output_type": "stream",
     "text": [
      "Own modules available: ['thermoConstants', 'setEnv', 'importingData', 'statisticalDistributions', 'plot1DInvLog', 'dataFormat', 'savingResults', 'slicingAndSubsetting']\n"
     ]
    }
   ],
   "source": [
    "###### %autoreload 2\n",
    "\n",
    "import numpy as np\n",
    "import matplotlib\n",
    "import matplotlib.pyplot as plt\n",
    "import sys,os,glob\n",
    "from mpl_toolkits.basemap import Basemap\n",
    "import matplotlib.colors as colors\n",
    "import matplotlib.cm as cmx\n",
    "import xarray as xr\n",
    "import pickle\n",
    "\n",
    "## Add own library to path\n",
    "workdir = os.getcwd()\n",
    "thismodule = sys.modules[__name__]\n",
    "moduledir = os.path.join(os.path.dirname(workdir),'functions')\n",
    "sys.path.insert(0,moduledir)\n",
    "print(\"Own modules available:\", [os.path.splitext(os.path.basename(x))[0]\n",
    "                                 for x in glob.glob(os.path.join(moduledir,'*.py'))])\n",
    "\n",
    "## Load own libraries\n",
    "from thermoConstants import *\n",
    "from statisticalDistributions import *\n",
    "from plot1DInvLog import *\n",
    "from importingData import *\n",
    "from savingResults import *\n",
    "\n",
    "## Graphical parameters\n",
    "plt.style.use(os.path.join(matplotlib.get_configdir(),'stylelib/presentation.mplstyle'))"
   ]
  },
  {
   "cell_type": "code",
   "execution_count": 28,
   "metadata": {
    "ExecuteTime": {
     "end_time": "2018-10-09T18:38:36.370966Z",
     "start_time": "2018-10-09T18:38:36.366498Z"
    }
   },
   "outputs": [],
   "source": [
    "# Simulation root name\n",
    "case = 'RCE'\n",
    "Nxyz = '256x256x64'\n",
    "Nx,Ny,Nz = np.array(Nxyz.split('x'),dtype=int)\n",
    "Nproc = np.max(np.array(Nxyz.split('x'),dtype=int))\n",
    "simroot = \"RCE_MPDATAxTKExCAMxSAM1MOM_4000x4000x15_%s\"%Nxyz\n",
    "SSTs = (300,304)\n",
    "states = 'disorganized','organized'\n",
    "state_label = {'organized':'','disorganized':'-radhomo'}\n",
    "colors = dict(zip(states,('#ff7f0e','#1f77b4')))"
   ]
  },
  {
   "cell_type": "code",
   "execution_count": 14,
   "metadata": {
    "ExecuteTime": {
     "end_time": "2018-10-09T18:31:32.953166Z",
     "start_time": "2018-10-09T18:31:32.949923Z"
    }
   },
   "outputs": [],
   "source": [
    "archivedir = getArchivedir(machine='coriknl')\n",
    "resultdir = os.path.join(os.path.dirname(moduledir),'results')\n",
    "figuredir = os.path.join(os.path.dirname(moduledir),'figures')"
   ]
  },
  {
   "cell_type": "code",
   "execution_count": 51,
   "metadata": {
    "ExecuteTime": {
     "end_time": "2018-10-09T18:59:36.355327Z",
     "start_time": "2018-10-09T18:59:35.266581Z"
    }
   },
   "outputs": [],
   "source": [
    "perc_ILQ_pr = {}\n",
    "ranks_ILQ_pr = {}\n",
    "ds_dict = {}\n",
    "for SST in SSTs:\n",
    "    perc_ILQ_pr[SST] = {}\n",
    "    ranks_ILQ_pr[SST] = {}\n",
    "    ds_dict[SST] = {}\n",
    "    for state in states:\n",
    "        expname = \"TKE-SST%d%s-r1\"%(SST,state_label[state])\n",
    "        resultsubdir = os.path.join(resultdir,simroot,expname,'xy_stats_over_time')\n",
    "        perc_ILQ_pr[SST][state] = pickle.load(open(os.path.join(resultsubdir,'percentiles_ILQ_pr.pickle'),'rb'))\n",
    "        ranks_ILQ_pr[SST][state] = pickle.load(open(os.path.join(resultsubdir,'ranks_ILQ_pr.pickle'),'rb'))\n",
    "        simname = \"%s_%s\"%(simroot,expname)\n",
    "        simdir = os.path.join(archivedir,simname,'OUT_STAT')\n",
    "        filename = \"%s.nc\"%(simname)\n",
    "        ds_dict[SST][state] = xr.open_dataset(os.path.join(simdir,filename))\n"
   ]
  },
  {
   "cell_type": "code",
   "execution_count": 63,
   "metadata": {
    "ExecuteTime": {
     "end_time": "2018-10-09T19:05:06.711529Z",
     "start_time": "2018-10-09T19:05:06.707191Z"
    }
   },
   "outputs": [],
   "source": [
    "time_labels = np.array(list(perc_ILQ_pr[SSTs[0]][states[0]].keys()))\n",
    "Ts = np.arange(240,2400,240)\n",
    "dt = 10 # days\n",
    "sT90 = slice(int(Ts[-1]-dt/2*24),int(Ts[-1]+dt/2*24))\n",
    "t90 = time_labels[-1]ß"
   ]
  },
  {
   "cell_type": "code",
   "execution_count": 17,
   "metadata": {
    "ExecuteTime": {
     "end_time": "2018-10-09T18:31:33.971949Z",
     "start_time": "2018-10-09T18:31:33.968458Z"
    }
   },
   "outputs": [],
   "source": [
    "Qmax = 99.99\n",
    "iQmax = indexOfRank(Qmax,ranks_ILQ_pr[SSTs[0]][states[0]][time_labels[0]])\n",
    "sQ = slice(0,iQmax)\n",
    "ranks = ranks_ILQ_pr[SSTs[0]][states[0]][time_labels[0]][sQ]"
   ]
  },
  {
   "cell_type": "markdown",
   "metadata": {},
   "source": [
    "# Fractional change"
   ]
  },
  {
   "cell_type": "markdown",
   "metadata": {},
   "source": [
    "## Extremes"
   ]
  },
  {
   "cell_type": "code",
   "execution_count": 47,
   "metadata": {
    "ExecuteTime": {
     "end_time": "2018-10-09T18:53:18.667874Z",
     "start_time": "2018-10-09T18:53:18.655935Z"
    }
   },
   "outputs": [],
   "source": [
    "figsubdir_fracchanges = os.path.join(figuredir,simroot,'fracchanges')\n",
    "if not os.path.exists(figsubdir_fracchanges): os.makedirs(figsubdir_fracchanges)"
   ]
  },
  {
   "cell_type": "code",
   "execution_count": 39,
   "metadata": {
    "ExecuteTime": {
     "end_time": "2018-10-09T18:46:24.439576Z",
     "start_time": "2018-10-09T18:46:24.433823Z"
    }
   },
   "outputs": [],
   "source": [
    "fracchange_pr = {}\n",
    "for state in states:\n",
    "    fracchange_pr[state] = {}\n",
    "    for t_lab in time_labels:\n",
    "        fcpr = np.zeros((iQmax,))\n",
    "        for i in range(iQmax):\n",
    "            if perc_ILQ_pr[SSTs[0]][state][t_lab][i] == 0:\n",
    "                fcpr[i] = np.nan\n",
    "            else:\n",
    "                fcpr[i] = (perc_ILQ_pr[SSTs[1]][state][t_lab][i]/perc_ILQ_pr[SSTs[0]][state][t_lab][i]-1)/(SSTs[1]-SSTs[0])*100\n",
    "            fracchange_pr[state][t_lab] = fcpr"
   ]
  },
  {
   "cell_type": "code",
   "execution_count": 49,
   "metadata": {
    "ExecuteTime": {
     "end_time": "2018-10-09T18:54:33.263048Z",
     "start_time": "2018-10-09T18:54:32.593759Z"
    },
    "scrolled": false
   },
   "outputs": [
    {
     "data": {
      "image/png": "[encoded data removed]",
      "text/plain": [
       "<Figure size 432x360 with 3 Axes>"
      ]
     },
     "metadata": {},
     "output_type": "display_data"
    }
   ],
   "source": [
    "fig,ax = plt.subplots(ncols=1,figsize=(6,5))\n",
    "ax.set_ylim((-4,16))\n",
    "for state in states:\n",
    "    addZeroLine(ax,ranks)\n",
    "    subplotRanksILog(ax,ranks,\n",
    "                     [fracchange_pr[state][t90]],\n",
    "                     col=[colors[state]],\n",
    "                     ltype=['-'],\n",
    "                     labels=[state],transformX=state==states[-1])\n",
    "#     ax.plot(ranks,fracchange_pr[state][t90])\n",
    "ax.legend(fontsize=11)\n",
    "\n",
    "ax.set_ylabel(r'$\\delta P$ (%/K)')\n",
    "ax.set_xlabel(r'Rainfall percentile ranks (%)')\n",
    "plt.savefig(os.path.join(figsubdir_fracchanges,'frachange_pr_%s_%s.pdf'%('_'.join(states),'_'.join([str(s) for s in SSTs]))),\n",
    "            bbox_layout='tight')"
   ]
  },
  {
   "cell_type": "markdown",
   "metadata": {},
   "source": [
    "## Mean precipitation"
   ]
  },
  {
   "cell_type": "code",
   "execution_count": 66,
   "metadata": {
    "ExecuteTime": {
     "end_time": "2018-10-09T19:06:13.920979Z",
     "start_time": "2018-10-09T19:06:13.910485Z"
    }
   },
   "outputs": [
    {
     "name": "stdout",
     "output_type": "stream",
     "text": [
      "- Fractional change in mean precipitation\n",
      "disorganized convection: 3.53783071041\n",
      "organized convection: 4.33506369591\n"
     ]
    }
   ],
   "source": [
    "print(\"- Fractional change in mean precipitation\")\n",
    "for state in states:\n",
    "    fracchange_pr_m = (ds_dict[SSTs[1]][state].PREC.data[sT90].mean()/ds_dict[SSTs[0]][state].PREC.data[sT90].mean()\\\n",
    "                       -1)/(SSTs[1]-SSTs[0])*100\n",
    "    print(state,\"convection:\",fracchange_pr_m)"
   ]
  },
  {
   "cell_type": "code",
   "execution_count": 68,
   "metadata": {
    "ExecuteTime": {
     "end_time": "2018-10-09T19:25:51.983091Z",
     "start_time": "2018-10-09T19:25:51.980365Z"
    }
   },
   "outputs": [],
   "source": [
    "# Test with energy budget"
   ]
  },
  {
   "cell_type": "code",
   "execution_count": null,
   "metadata": {},
   "outputs": [],
   "source": []
  }
 ],
 "metadata": {
  "hide_input": false,
  "kernelspec": {
   "display_name": "Python [conda env:pyPhD]",
   "language": "python",
   "name": "conda-env-pyPhD-py"
  },
  "language_info": {
   "codemirror_mode": {
    "name": "ipython",
    "version": 3
   },
   "file_extension": ".py",
   "mimetype": "text/x-python",
   "name": "python",
   "nbconvert_exporter": "python",
   "pygments_lexer": "ipython3",
   "version": "3.6.6"
  },
  "latex_envs": {
   "LaTeX_envs_menu_present": true,
   "autoclose": false,
   "autocomplete": true,
   "bibliofile": "biblio.bib",
   "cite_by": "apalike",
   "current_citInitial": 1,
   "eqLabelWithNumbers": true,
   "eqNumInitial": 1,
   "hotkeys": {
    "equation": "Ctrl-E",
    "itemize": "Ctrl-I"
   },
   "labels_anchors": false,
   "latex_user_defs": false,
   "report_style_numbering": false,
   "user_envs_cfg": false
  },
  "toc": {
   "base_numbering": 1,
   "nav_menu": {},
   "number_sections": true,
   "sideBar": true,
   "skip_h1_title": false,
   "title_cell": "Table of Contents",
   "title_sidebar": "Contents",
   "toc_cell": false,
   "toc_position": {},
   "toc_section_display": true,
   "toc_window_display": false
  },
  "varInspector": {
   "cols": {
    "lenName": 16,
    "lenType": 16,
    "lenVar": 40
   },
   "kernels_config": {
    "python": {
     "delete_cmd_postfix": "",
     "delete_cmd_prefix": "del ",
     "library": "var_list.py",
     "varRefreshCmd": "print(var_dic_list())"
    },
    "r": {
     "delete_cmd_postfix": ") ",
     "delete_cmd_prefix": "rm(",
     "library": "var_list.r",
     "varRefreshCmd": "cat(var_dic_list()) "
    }
   },
   "types_to_exclude": [
    "module",
    "function",
    "builtin_function_or_method",
    "instance",
    "_Feature"
   ],
   "window_display": false
  }
 },
 "nbformat": 4,
 "nbformat_minor": 2
}
